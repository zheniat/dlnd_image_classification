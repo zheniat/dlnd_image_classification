{
 "cells": [
  {
   "cell_type": "markdown",
   "metadata": {
    "collapsed": true
   },
   "source": [
    "# Image Classification\n",
    "In this project, you'll classify images from the [CIFAR-10 dataset](https://www.cs.toronto.edu/~kriz/cifar.html).  The dataset consists of airplanes, dogs, cats, and other objects. You'll preprocess the images, then train a convolutional neural network on all the samples. The images need to be normalized and the labels need to be one-hot encoded.  You'll get to apply what you learned and build a convolutional, max pooling, dropout, and fully connected layers.  At the end, you'll get to see your neural network's predictions on the sample images.\n",
    "## Get the Data\n",
    "Run the following cell to download the [CIFAR-10 dataset for python](https://www.cs.toronto.edu/~kriz/cifar-10-python.tar.gz)."
   ]
  },
  {
   "cell_type": "code",
   "execution_count": 70,
   "metadata": {
    "collapsed": false
   },
   "outputs": [
    {
     "name": "stdout",
     "output_type": "stream",
     "text": [
      "All files found!\n"
     ]
    }
   ],
   "source": [
    "\"\"\"\n",
    "DON'T MODIFY ANYTHING IN THIS CELL THAT IS BELOW THIS LINE\n",
    "\"\"\"\n",
    "from urllib.request import urlretrieve\n",
    "from os.path import isfile, isdir\n",
    "from sklearn import preprocessing\n",
    "from tqdm import tqdm\n",
    "import problem_unittests as tests\n",
    "import tarfile\n",
    "\n",
    "cifar10_dataset_folder_path = 'cifar-10-batches-py'\n",
    "\n",
    "class DLProgress(tqdm):\n",
    "    last_block = 0\n",
    "\n",
    "    def hook(self, block_num=1, block_size=1, total_size=None):\n",
    "        self.total = total_size\n",
    "        self.update((block_num - self.last_block) * block_size)\n",
    "        self.last_block = block_num\n",
    "\n",
    "if not isfile('cifar-10-python.tar.gz'):\n",
    "    with DLProgress(unit='B', unit_scale=True, miniters=1, desc='CIFAR-10 Dataset') as pbar:\n",
    "        urlretrieve(\n",
    "            'https://www.cs.toronto.edu/~kriz/cifar-10-python.tar.gz',\n",
    "            'cifar-10-python.tar.gz',\n",
    "            pbar.hook)\n",
    "\n",
    "if not isdir(cifar10_dataset_folder_path):\n",
    "    with tarfile.open('cifar-10-python.tar.gz') as tar:\n",
    "        tar.extractall()\n",
    "        tar.close()\n",
    "\n",
    "\n",
    "tests.test_folder_path(cifar10_dataset_folder_path)"
   ]
  },
  {
   "cell_type": "markdown",
   "metadata": {},
   "source": [
    "## Explore the Data\n",
    "The dataset is broken into batches to prevent your machine from running out of memory.  The CIFAR-10 dataset consists of 5 batches, named `data_batch_1`, `data_batch_2`, etc.. Each batch contains the labels and images that are one of the following:\n",
    "* airplane\n",
    "* automobile\n",
    "* bird\n",
    "* cat\n",
    "* deer\n",
    "* dog\n",
    "* frog\n",
    "* horse\n",
    "* ship\n",
    "* truck\n",
    "\n",
    "Understanding a dataset is part of making predictions on the data.  Play around with the code cell below by changing the `batch_id` and `sample_id`. The `batch_id` is the id for a batch (1-5). The `sample_id` is the id for a image and label pair in the batch.\n",
    "\n",
    "Ask yourself \"What are all possible labels?\", \"What is the range of values for the image data?\", \"Are the labels in order or random?\".  Answers to questions like these will help you preprocess the data and end up with better predictions."
   ]
  },
  {
   "cell_type": "code",
   "execution_count": 71,
   "metadata": {
    "collapsed": false
   },
   "outputs": [
    {
     "name": "stdout",
     "output_type": "stream",
     "text": [
      "\n",
      "Stats of batch 2:\n",
      "Samples: 10000\n",
      "Label Counts: {0: 984, 1: 1007, 2: 1010, 3: 995, 4: 1010, 5: 988, 6: 1008, 7: 1026, 8: 987, 9: 985}\n",
      "First 20 Labels: [1, 6, 6, 8, 8, 3, 4, 6, 0, 6, 0, 3, 6, 6, 5, 4, 8, 3, 2, 6]\n",
      "\n",
      "Example of Image 2:\n",
      "Image - Min Value: 0 Max Value: 240\n",
      "Image - Shape: (32, 32, 3)\n",
      "Label - Label Id: 6 Name: frog\n"
     ]
    },
    {
     "data": {
      "image/png": "[encoded data removed]",
      "text/plain": [
       "<matplotlib.figure.Figure at 0x7fac59ddbf28>"
      ]
     },
     "metadata": {
      "image/png": {
       "height": 250,
       "width": 253
      }
     },
     "output_type": "display_data"
    }
   ],
   "source": [
    "%matplotlib inline\n",
    "%config InlineBackend.figure_format = 'retina'\n",
    "\n",
    "import helper\n",
    "import numpy as np\n",
    "\n",
    "# Explore the dataset\n",
    "batch_id = 2\n",
    "sample_id = 2\n",
    "helper.display_stats(cifar10_dataset_folder_path, batch_id, sample_id)"
   ]
  },
  {
   "cell_type": "markdown",
   "metadata": {},
   "source": [
    "## Implement Preprocess Functions\n",
    "### Normalize\n",
    "In the cell below, implement the `normalize` function to take in image data, `x`, and return it as a normalized Numpy array. The values should be in the range of 0 to 1, inclusive.  The return object should be the same shape as `x`."
   ]
  },
  {
   "cell_type": "code",
   "execution_count": 72,
   "metadata": {
    "collapsed": false
   },
   "outputs": [
    {
     "name": "stdout",
     "output_type": "stream",
     "text": [
      "Tests Passed\n"
     ]
    }
   ],
   "source": [
    "def normalize(x):\n",
    "    \"\"\"\n",
    "    Normalize a list of sample image data in the range of 0 to 1\n",
    "    : x: List of image data.  The image shape is (32, 32, 3)\n",
    "    : return: Numpy array of normalize data\n",
    "    \"\"\"\n",
    "    return 0.1 + (x - x.min())*0.8/(x.max()-x.min())\n",
    "\n",
    "\n",
    "\"\"\"\n",
    "DON'T MODIFY ANYTHING IN THIS CELL THAT IS BELOW THIS LINE\n",
    "\"\"\"\n",
    "tests.test_normalize(normalize)"
   ]
  },
  {
   "cell_type": "markdown",
   "metadata": {},
   "source": [
    "### One-hot encode\n",
    "Just like the previous code cell, you'll be implementing a function for preprocessing.  This time, you'll implement the `one_hot_encode` function. The input, `x`, are a list of labels.  Implement the function to return the list of labels as One-Hot encoded Numpy array.  The possible values for labels are 0 to 9. The one-hot encoding function should return the same encoding for each value between each call to `one_hot_encode`.  Make sure to save the map of encodings outside the function.\n",
    "\n",
    "Hint: Don't reinvent the wheel."
   ]
  },
  {
   "cell_type": "code",
   "execution_count": 73,
   "metadata": {
    "collapsed": false
   },
   "outputs": [
    {
     "name": "stdout",
     "output_type": "stream",
     "text": [
      "Tests Passed\n"
     ]
    }
   ],
   "source": [
    "encoded_labels = dict()\n",
    "\n",
    "def one_hot_encode(x):\n",
    "    \"\"\"\n",
    "    One hot encode a list of sample labels. Return a one-hot encoded vector for each label.\n",
    "    : x: List of sample Labels\n",
    "    : return: Numpy array of one-hot encoded labels\n",
    "    \"\"\"\n",
    "    return_labels = []\n",
    "    re_encode = False\n",
    "    for label in x:\n",
    "        if label not in encoded_labels:\n",
    "            re_encode = True\n",
    "            encoded_labels[label] = []\n",
    "\n",
    "    if re_encode:       \n",
    "        to_encode = []\n",
    "        for key, value in encoded_labels.items():\n",
    "            to_encode.append(key)\n",
    "        encoder = preprocessing.LabelBinarizer()\n",
    "        encoder.fit(to_encode)\n",
    "        new_labels = encoder.transform(to_encode)\n",
    "        for i in range(len(new_labels)):\n",
    "            encoded_labels[to_encode[i]] = new_labels[i]\n",
    "    \n",
    "    for label in x: \n",
    "        return_labels.append(encoded_labels[label])\n",
    "\n",
    "    # Change to float32, so it can be multiplied against the features in TensorFlow, which are float32\n",
    "    return np.asarray(return_labels, dtype=np.float32)\n",
    "\n",
    "\n",
    "\"\"\"\n",
    "DON'T MODIFY ANYTHING IN THIS CELL THAT IS BELOW THIS LINE\n",
    "\"\"\"\n",
    "tests.test_one_hot_encode(one_hot_encode)"
   ]
  },
  {
   "cell_type": "markdown",
   "metadata": {},
   "source": [
    "### Randomize Data\n",
    "As you saw from exploring the data above, the order of the samples are randomized.  It doesn't hurt to randomize it again, but you don't need to for this dataset."
   ]
  },
  {
   "cell_type": "markdown",
   "metadata": {},
   "source": [
    "## Preprocess all the data and save it\n",
    "Running the code cell below will preprocess all the CIFAR-10 data and save it to file. The code below also uses 10% of the training data for validation."
   ]
  },
  {
   "cell_type": "code",
   "execution_count": 74,
   "metadata": {
    "collapsed": false
   },
   "outputs": [],
   "source": [
    "\"\"\"\n",
    "DON'T MODIFY ANYTHING IN THIS CELL\n",
    "\"\"\"\n",
    "# Preprocess Training, Validation, and Testing Data\n",
    "helper.preprocess_and_save_data(cifar10_dataset_folder_path, normalize, one_hot_encode)"
   ]
  },
  {
   "cell_type": "markdown",
   "metadata": {},
   "source": [
    "# Check Point\n",
    "This is your first checkpoint.  If you ever decide to come back to this notebook or have to restart the notebook, you can start from here.  The preprocessed data has been saved to disk."
   ]
  },
  {
   "cell_type": "code",
   "execution_count": 75,
   "metadata": {
    "collapsed": true
   },
   "outputs": [],
   "source": [
    "\"\"\"\n",
    "DON'T MODIFY ANYTHING IN THIS CELL\n",
    "\"\"\"\n",
    "import pickle\n",
    "import problem_unittests as tests\n",
    "import helper\n",
    "\n",
    "# Load the Preprocessed Validation data\n",
    "valid_features, valid_labels = pickle.load(open('preprocess_validation.p', mode='rb'))"
   ]
  },
  {
   "cell_type": "markdown",
   "metadata": {},
   "source": [
    "## Build the network\n",
    "For the neural network, you'll build each layer into a function.  Most of the code you've seen has been outside of functions. To test your code more thoroughly, we require that you put each layer in a function.  This allows us to give you better feedback and test for simple mistakes using our unittests before you submit your project.\n",
    "\n",
    ">**Note:** If you're finding it hard to dedicate enough time for this course each week, we've provided a small shortcut to this part of the project. In the next couple of problems, you'll have the option to use classes from the [TensorFlow Layers](https://www.tensorflow.org/api_docs/python/tf/layers) or [TensorFlow Layers (contrib)](https://www.tensorflow.org/api_guides/python/contrib.layers) packages to build each layer, except the layers you build in the \"Convolutional and Max Pooling Layer\" section.  TF Layers is similar to Keras's and TFLearn's abstraction to layers, so it's easy to pickup.\n",
    "\n",
    ">However, if you would like to get the most out of this course, try to solve all the problems _without_ using anything from the TF Layers packages. You **can** still use classes from other packages that happen to have the same name as ones you find in TF Layers! For example, instead of using the TF Layers version of the `conv2d` class, [tf.layers.conv2d](https://www.tensorflow.org/api_docs/python/tf/layers/conv2d), you would want to use the TF Neural Network version of `conv2d`, [tf.nn.conv2d](https://www.tensorflow.org/api_docs/python/tf/nn/conv2d). \n",
    "\n",
    "Let's begin!\n",
    "\n",
    "### Input\n",
    "The neural network needs to read the image data, one-hot encoded labels, and dropout keep probability. Implement the following functions\n",
    "* Implement `neural_net_image_input`\n",
    " * Return a [TF Placeholder](https://www.tensorflow.org/api_docs/python/tf/placeholder)\n",
    " * Set the shape using `image_shape` with batch size set to `None`.\n",
    " * Name the TensorFlow placeholder \"x\" using the TensorFlow `name` parameter in the [TF Placeholder](https://www.tensorflow.org/api_docs/python/tf/placeholder).\n",
    "* Implement `neural_net_label_input`\n",
    " * Return a [TF Placeholder](https://www.tensorflow.org/api_docs/python/tf/placeholder)\n",
    " * Set the shape using `n_classes` with batch size set to `None`.\n",
    " * Name the TensorFlow placeholder \"y\" using the TensorFlow `name` parameter in the [TF Placeholder](https://www.tensorflow.org/api_docs/python/tf/placeholder).\n",
    "* Implement `neural_net_keep_prob_input`\n",
    " * Return a [TF Placeholder](https://www.tensorflow.org/api_docs/python/tf/placeholder) for dropout keep probability.\n",
    " * Name the TensorFlow placeholder \"keep_prob\" using the TensorFlow `name` parameter in the [TF Placeholder](https://www.tensorflow.org/api_docs/python/tf/placeholder).\n",
    "\n",
    "These names will be used at the end of the project to load your saved model.\n",
    "\n",
    "Note: `None` for shapes in TensorFlow allow for a dynamic size."
   ]
  },
  {
   "cell_type": "code",
   "execution_count": 76,
   "metadata": {
    "collapsed": false
   },
   "outputs": [
    {
     "name": "stdout",
     "output_type": "stream",
     "text": [
      "Image Input Tests Passed.\n",
      "Label Input Tests Passed.\n",
      "Keep Prob Tests Passed.\n"
     ]
    }
   ],
   "source": [
    "import tensorflow as tf\n",
    "\n",
    "def neural_net_image_input(image_shape):\n",
    "    \"\"\"\n",
    "    Return a Tensor for a bach of image input\n",
    "    : image_shape: Shape of the images\n",
    "    : return: Tensor for image input.\n",
    "    \"\"\"\n",
    "    shape = [None]\n",
    "    for s in image_shape:\n",
    "        shape.append(s)\n",
    "    \n",
    "    return tf.placeholder(tf.float32, shape=shape, name='x')\n",
    "    \n",
    "\n",
    "def neural_net_label_input(n_classes):\n",
    "    \"\"\"\n",
    "    Return a Tensor for a batch of label input\n",
    "    : n_classes: Number of classes\n",
    "    : return: Tensor for label input.\n",
    "    \"\"\"\n",
    "    return tf.placeholder(tf.float32, shape=[None,n_classes],name='y')\n",
    "    \n",
    "\n",
    "def neural_net_keep_prob_input():\n",
    "    \"\"\"\n",
    "    Return a Tensor for keep probability\n",
    "    : return: Tensor for keep probability.\n",
    "    \"\"\"\n",
    "    return tf.placeholder(tf.float32, name='keep_prob')\n",
    "\n",
    "\n",
    "\"\"\"\n",
    "DON'T MODIFY ANYTHING IN THIS CELL THAT IS BELOW THIS LINE\n",
    "\"\"\"\n",
    "tf.reset_default_graph()\n",
    "tests.test_nn_image_inputs(neural_net_image_input)\n",
    "tests.test_nn_label_inputs(neural_net_label_input)\n",
    "tests.test_nn_keep_prob_inputs(neural_net_keep_prob_input)"
   ]
  },
  {
   "cell_type": "markdown",
   "metadata": {},
   "source": [
    "### Convolution and Max Pooling Layer\n",
    "Convolution layers have a lot of success with images. For this code cell, you should implement the function `conv2d_maxpool` to apply convolution then max pooling:\n",
    "* Create the weight and bias using `conv_ksize`, `conv_num_outputs` and the shape of `x_tensor`.\n",
    "* Apply a convolution to `x_tensor` using weight and `conv_strides`.\n",
    " * We recommend you use same padding, but you're welcome to use any padding.\n",
    "* Add bias\n",
    "* Add a nonlinear activation to the convolution.\n",
    "* Apply Max Pooling using `pool_ksize` and `pool_strides`.\n",
    " * We recommend you use same padding, but you're welcome to use any padding.\n",
    "\n",
    "**Note:** You **can't** use [TensorFlow Layers](https://www.tensorflow.org/api_docs/python/tf/layers) or [TensorFlow Layers (contrib)](https://www.tensorflow.org/api_guides/python/contrib.layers) for **this** layer, but you can still use TensorFlow's [Neural Network](https://www.tensorflow.org/api_docs/python/tf/nn) package. You may still use the shortcut option for all the **other** layers."
   ]
  },
  {
   "cell_type": "code",
   "execution_count": 77,
   "metadata": {
    "collapsed": false
   },
   "outputs": [
    {
     "name": "stdout",
     "output_type": "stream",
     "text": [
      "Tests Passed\n"
     ]
    }
   ],
   "source": [
    "def conv2d_maxpool(x_tensor, conv_num_outputs, conv_ksize, conv_strides, pool_ksize, pool_strides):\n",
    "    \"\"\"\n",
    "    Apply convolution then max pooling to x_tensor\n",
    "    :param x_tensor: TensorFlow Tensor\n",
    "    :param conv_num_outputs: Number of outputs for the convolutional layer\n",
    "    :param conv_ksize: kernal size 2-D Tuple for the convolutional layer\n",
    "    :param conv_strides: Stride 2-D Tuple for convolution\n",
    "    :param pool_ksize: kernal size 2-D Tuple for pool\n",
    "    :param pool_strides: Stride 2-D Tuple for pool\n",
    "    : return: A tensor that represents convolution and max pooling of x_tensor\n",
    "    \"\"\"\n",
    "    # Filter (weights and bias)\n",
    "    x_shape = x_tensor.get_shape().as_list() \n",
    "        \n",
    "    F_W = tf.Variable(tf.random_normal([conv_ksize[0],conv_ksize[1], x_shape[3] , conv_num_outputs], mean=0.0, stddev=0.05))\n",
    "    F_b = tf.Variable(tf.zeros(conv_num_outputs))\n",
    "\n",
    "    conv_layer = tf.nn.conv2d(x_tensor, F_W, [1,conv_strides[0],conv_strides[1],1], 'SAME')\n",
    "    conv_layer = tf.nn.bias_add(conv_layer, F_b)\n",
    "    conv_layer = tf.nn.relu(conv_layer)\n",
    "    \n",
    "    return tf.nn.max_pool(conv_layer, ksize=[1, pool_ksize[0], pool_ksize[1], 1], \\\n",
    "                          strides=[1, pool_strides[0], pool_strides[1], 1],\\\n",
    "                          padding='SAME')\n",
    "\n",
    "\"\"\"\n",
    "DON'T MODIFY ANYTHING IN THIS CELL THAT IS BELOW THIS LINE\n",
    "\"\"\"\n",
    "tests.test_con_pool(conv2d_maxpool)"
   ]
  },
  {
   "cell_type": "markdown",
   "metadata": {},
   "source": [
    "### Flatten Layer\n",
    "Implement the `flatten` function to change the dimension of `x_tensor` from a 4-D tensor to a 2-D tensor.  The output should be the shape (*Batch Size*, *Flattened Image Size*). Shortcut option: you can use classes from the [TensorFlow Layers](https://www.tensorflow.org/api_docs/python/tf/layers) or [TensorFlow Layers (contrib)](https://www.tensorflow.org/api_guides/python/contrib.layers) packages for this layer. For more of a challenge, only use other TensorFlow packages."
   ]
  },
  {
   "cell_type": "code",
   "execution_count": 78,
   "metadata": {
    "collapsed": false
   },
   "outputs": [
    {
     "name": "stdout",
     "output_type": "stream",
     "text": [
      "Tests Passed\n"
     ]
    }
   ],
   "source": [
    "def flatten(x_tensor):\n",
    "    \"\"\"\n",
    "    Flatten x_tensor to (Batch Size, Flattened Image Size)\n",
    "    : x_tensor: A tensor of size (Batch Size, ...), where ... are the image dimensions.\n",
    "    : return: A tensor of size (Batch Size, Flattened Image Size).\n",
    "    \"\"\"\n",
    "    shape = x_tensor.get_shape().as_list()\n",
    "    size = shape[1]*shape[2]*shape[3]\n",
    "    return tf.reshape(x_tensor, [-1, size])\n",
    "\n",
    "\"\"\"\n",
    "DON'T MODIFY ANYTHING IN THIS CELL THAT IS BELOW THIS LINE\n",
    "\"\"\"\n",
    "tests.test_flatten(flatten)"
   ]
  },
  {
   "cell_type": "markdown",
   "metadata": {},
   "source": [
    "### Fully-Connected Layer\n",
    "Implement the `fully_conn` function to apply a fully connected layer to `x_tensor` with the shape (*Batch Size*, *num_outputs*). Shortcut option: you can use classes from the [TensorFlow Layers](https://www.tensorflow.org/api_docs/python/tf/layers) or [TensorFlow Layers (contrib)](https://www.tensorflow.org/api_guides/python/contrib.layers) packages for this layer. For more of a challenge, only use other TensorFlow packages."
   ]
  },
  {
   "cell_type": "code",
   "execution_count": 79,
   "metadata": {
    "collapsed": false
   },
   "outputs": [
    {
     "name": "stdout",
     "output_type": "stream",
     "text": [
      "Tests Passed\n"
     ]
    }
   ],
   "source": [
    "def fully_conn(x_tensor, num_outputs):\n",
    "    \"\"\"\n",
    "    Apply a fully connected layer to x_tensor using weight and bias\n",
    "    : x_tensor: A 2-D tensor where the first dimension is batch size.\n",
    "    : num_outputs: The number of output that the new tensor should be.\n",
    "    : return: A 2-D tensor where the second dimension is num_outputs.\n",
    "    \"\"\"\n",
    "    \n",
    "    \n",
    "    dims = x_tensor.get_shape().as_list()[1] #[0] is batch size\n",
    "    F_w = tf.Variable(tf.random_normal([dims, num_outputs], mean=0.0, stddev=0.05))\n",
    "    F_b = tf.Variable(tf.zeros(num_outputs))\n",
    "    v_res = tf.add(tf.matmul(x_tensor, F_w), F_b)\n",
    "    return tf.nn.relu(v_res)\n",
    "    \n",
    "\"\"\"\n",
    "DON'T MODIFY ANYTHING IN THIS CELL THAT IS BELOW THIS LINE\n",
    "\"\"\"\n",
    "tests.test_fully_conn(fully_conn)"
   ]
  },
  {
   "cell_type": "markdown",
   "metadata": {},
   "source": [
    "### Output Layer\n",
    "Implement the `output` function to apply a fully connected layer to `x_tensor` with the shape (*Batch Size*, *num_outputs*). Shortcut option: you can use classes from the [TensorFlow Layers](https://www.tensorflow.org/api_docs/python/tf/layers) or [TensorFlow Layers (contrib)](https://www.tensorflow.org/api_guides/python/contrib.layers) packages for this layer. For more of a challenge, only use other TensorFlow packages.\n",
    "\n",
    "**Note:** Activation, softmax, or cross entropy should **not** be applied to this."
   ]
  },
  {
   "cell_type": "code",
   "execution_count": 80,
   "metadata": {
    "collapsed": false
   },
   "outputs": [
    {
     "name": "stdout",
     "output_type": "stream",
     "text": [
      "Tests Passed\n"
     ]
    }
   ],
   "source": [
    "def output(x_tensor, num_outputs):\n",
    "    \"\"\"\n",
    "    Apply a output layer to x_tensor using weight and bias\n",
    "    : x_tensor: A 2-D tensor where the first dimension is batch size.\n",
    "    : num_outputs: The number of output that the new tensor should be.\n",
    "    : return: A 2-D tensor where the second dimension is num_outputs.\n",
    "    \"\"\"\n",
    "    O_w = tf.Variable(tf.random_normal([x_tensor.get_shape().as_list()[1], num_outputs], mean=0.0, stddev=0.05))\n",
    "    O_b = tf.Variable(tf.random_normal([num_outputs]))\n",
    "    return tf.add(tf.matmul(x_tensor, O_w),O_b)\n",
    "\n",
    "    \n",
    "\"\"\"\n",
    "DON'T MODIFY ANYTHING IN THIS CELL THAT IS BELOW THIS LINE\n",
    "\"\"\"\n",
    "tests.test_output(output)"
   ]
  },
  {
   "cell_type": "markdown",
   "metadata": {},
   "source": [
    "### Create Convolutional Model\n",
    "Implement the function `conv_net` to create a convolutional neural network model. The function takes in a batch of images, `x`, and outputs logits.  Use the layers you created above to create this model:\n",
    "\n",
    "* Apply 1, 2, or 3 Convolution and Max Pool layers\n",
    "* Apply a Flatten Layer\n",
    "* Apply 1, 2, or 3 Fully Connected Layers\n",
    "* Apply an Output Layer\n",
    "* Return the output\n",
    "* Apply [TensorFlow's Dropout](https://www.tensorflow.org/api_docs/python/tf/nn/dropout) to one or more layers in the model using `keep_prob`. "
   ]
  },
  {
   "cell_type": "code",
   "execution_count": 81,
   "metadata": {
    "collapsed": false
   },
   "outputs": [
    {
     "name": "stdout",
     "output_type": "stream",
     "text": [
      "Neural Network Built!\n"
     ]
    }
   ],
   "source": [
    "def conv_net(x, keep_prob):\n",
    "    \"\"\"\n",
    "    Create a convolutional neural network model\n",
    "    : x: Placeholder tensor that holds image data.\n",
    "    : keep_prob: Placeholder tensor that hold dropout keep probability.\n",
    "    : return: Tensor that represents logits\n",
    "    \"\"\"\n",
    "    # TODO: Apply 1, 2, or 3 Convolution and Max Pool layers\n",
    "    #    Play around with different number of outputs, kernel size and stride\n",
    "    # Function Definition from Above:\n",
    "    #    conv2d_maxpool(x_tensor, conv_num_outputs, conv_ksize, conv_strides, pool_ksize, pool_strides)\n",
    "    conv_outputs1 = 16\n",
    "    conv_ksize1 = (5, 5)\n",
    "    conv_strides1 = (1, 1)\n",
    "    pool_k1 = (2, 2)\n",
    "    pool_strides1 = (2, 2)\n",
    "    conv_net = conv2d_maxpool(x, conv_outputs1, conv_ksize1, conv_strides1, pool_k1, pool_strides1)\n",
    "    \n",
    "    conv_outputs2 = 64\n",
    "    conv_ksize2 = (2, 2)\n",
    "    conv_strides2 = (1, 1)\n",
    "    pool_k2 = (2, 2)\n",
    "    pool_strides2 = (2, 2)\n",
    "    conv_net = conv2d_maxpool(conv_net, conv_outputs2, conv_ksize2, conv_strides2, pool_k2, pool_strides2)\n",
    "    \n",
    "    conv_outputs3 = 128\n",
    "    conv_ksize3 = (2, 2)\n",
    "    conv_strides3 = (1, 1)\n",
    "    pool_k3 = (2, 2)\n",
    "    pool_strides3 = (1, 1)\n",
    "    conv_net = conv2d_maxpool(conv_net, conv_outputs2, conv_ksize2, conv_strides2, pool_k2, pool_strides2)\n",
    "    \n",
    "  \n",
    "\n",
    "    # TODO: Apply a Flatten Layer\n",
    "    # Function Definition from Above:\n",
    "    conv_net = flatten(conv_net)\n",
    "    \n",
    "\n",
    "    # TODO: Apply 1, 2, or 3 Fully Connected Layers\n",
    "    #    Play around with different number of outputs\n",
    "    # Function Definition from Above:\n",
    "    conv_net = fully_conn(conv_net, 100)\n",
    "    conv_net = tf.nn.dropout(conv_net, keep_prob)\n",
    "    \n",
    "    conv_net = fully_conn(conv_net, 50)\n",
    "    conv_net = tf.nn.dropout(conv_net, keep_prob)\n",
    "    \n",
    "    \n",
    "    conv_net = fully_conn(conv_net, 200)\n",
    "    conv_net = tf.nn.dropout(conv_net, keep_prob)\n",
    "    \n",
    "    # TODO: Apply an Output Layer\n",
    "    #    Set this to the number of classes\n",
    "    # Function Definition from Above:\n",
    "    return output(conv_net, 10)\n",
    "    \n",
    "    \n",
    "\n",
    "\"\"\"\n",
    "DON'T MODIFY ANYTHING IN THIS CELL THAT IS BELOW THIS LINE\n",
    "\"\"\"\n",
    "\n",
    "##############################\n",
    "## Build the Neural Network ##\n",
    "##############################\n",
    "\n",
    "# Remove previous weights, bias, inputs, etc..\n",
    "tf.reset_default_graph()\n",
    "\n",
    "# Inputs\n",
    "x = neural_net_image_input((32, 32, 3))\n",
    "y = neural_net_label_input(10)\n",
    "keep_prob = neural_net_keep_prob_input()\n",
    "\n",
    "# Model\n",
    "logits = conv_net(x, keep_prob)\n",
    "\n",
    "# Name logits Tensor, so that is can be loaded from disk after training\n",
    "logits = tf.identity(logits, name='logits')\n",
    "\n",
    "# Loss and Optimizer\n",
    "cost = tf.reduce_mean(tf.nn.softmax_cross_entropy_with_logits(logits=logits, labels=y))\n",
    "optimizer = tf.train.AdamOptimizer().minimize(cost)\n",
    "\n",
    "# Accuracy\n",
    "correct_pred = tf.equal(tf.argmax(logits, 1), tf.argmax(y, 1))\n",
    "accuracy = tf.reduce_mean(tf.cast(correct_pred, tf.float32), name='accuracy')\n",
    "\n",
    "tests.test_conv_net(conv_net)"
   ]
  },
  {
   "cell_type": "markdown",
   "metadata": {},
   "source": [
    "## Train the Neural Network\n",
    "### Single Optimization\n",
    "Implement the function `train_neural_network` to do a single optimization.  The optimization should use `optimizer` to optimize in `session` with a `feed_dict` of the following:\n",
    "* `x` for image input\n",
    "* `y` for labels\n",
    "* `keep_prob` for keep probability for dropout\n",
    "\n",
    "This function will be called for each batch, so `tf.global_variables_initializer()` has already been called.\n",
    "\n",
    "Note: Nothing needs to be returned. This function is only optimizing the neural network."
   ]
  },
  {
   "cell_type": "code",
   "execution_count": 82,
   "metadata": {
    "collapsed": false
   },
   "outputs": [
    {
     "name": "stdout",
     "output_type": "stream",
     "text": [
      "Tests Passed\n"
     ]
    }
   ],
   "source": [
    "def train_neural_network(session, optimizer, keep_probability, feature_batch, label_batch):\n",
    "    \"\"\"\n",
    "    Optimize the session on a batch of images and labels\n",
    "    : session: Current TensorFlow session\n",
    "    : optimizer: TensorFlow optimizer function\n",
    "    : keep_probability: keep probability\n",
    "    : feature_batch: Batch of Numpy image data\n",
    "    : label_batch: Batch of Numpy label data\n",
    "    \"\"\"\n",
    "        # Run optimizer and get loss\n",
    "    optimizer = session.run(\n",
    "        [optimizer],\n",
    "        feed_dict={x: feature_batch, y: label_batch, keep_prob: keep_probability})\n",
    "    pass\n",
    "\n",
    "\n",
    "\"\"\"\n",
    "DON'T MODIFY ANYTHING IN THIS CELL THAT IS BELOW THIS LINE\n",
    "\"\"\"\n",
    "tests.test_train_nn(train_neural_network)"
   ]
  },
  {
   "cell_type": "markdown",
   "metadata": {},
   "source": [
    "### Show Stats\n",
    "Implement the function `print_stats` to print loss and validation accuracy.  Use the global variables `valid_features` and `valid_labels` to calculate validation accuracy.  Use a keep probability of `1.0` to calculate the loss and validation accuracy."
   ]
  },
  {
   "cell_type": "code",
   "execution_count": 83,
   "metadata": {
    "collapsed": false
   },
   "outputs": [],
   "source": [
    "def print_stats(session, feature_batch, label_batch, cost, accuracy):\n",
    "    \"\"\"\n",
    "    Print information about loss and validation accuracy\n",
    "    : session: Current TensorFlow session\n",
    "    : feature_batch: Batch of Numpy image data\n",
    "    : label_batch: Batch of Numpy label data\n",
    "    : cost: TensorFlow cost function\n",
    "    : accuracy: TensorFlow accuracy function\n",
    "    \"\"\"\n",
    "    \n",
    "    \n",
    "    valid_feed_dict = {x: feature_batch, y: label_batch, keep_prob: 1.0}\n",
    "    validation_accuracy = session.run(accuracy, feed_dict = valid_feed_dict)\n",
    "    loss = session.run(cost, feed_dict=valid_feed_dict)    \n",
    "    \n",
    "    print('Validation accuracy at {}'.format(validation_accuracy), 'Loss at {}'.format(loss))\n",
    "\n",
    "    \n",
    "    pass"
   ]
  },
  {
   "cell_type": "markdown",
   "metadata": {},
   "source": [
    "### Hyperparameters\n",
    "Tune the following parameters:\n",
    "* Set `epochs` to the number of iterations until the network stops learning or start overfitting\n",
    "* Set `batch_size` to the highest number that your machine has memory for.  Most people set them to common sizes of memory:\n",
    " * 64\n",
    " * 128\n",
    " * 256\n",
    " * ...\n",
    "* Set `keep_probability` to the probability of keeping a node using dropout"
   ]
  },
  {
   "cell_type": "code",
   "execution_count": 84,
   "metadata": {
    "collapsed": true
   },
   "outputs": [],
   "source": [
    "# TODO: Tune Parameters\n",
    "epochs = 30\n",
    "batch_size = 128\n",
    "keep_probability = 0.50"
   ]
  },
  {
   "cell_type": "markdown",
   "metadata": {},
   "source": [
    "### Train on a Single CIFAR-10 Batch\n",
    "Instead of training the neural network on all the CIFAR-10 batches of data, let's use a single batch. This should save time while you iterate on the model to get a better accuracy.  Once the final validation accuracy is 50% or greater, run the model on all the data in the next section."
   ]
  },
  {
   "cell_type": "code",
   "execution_count": 85,
   "metadata": {
    "collapsed": false
   },
   "outputs": [
    {
     "name": "stdout",
     "output_type": "stream",
     "text": [
      "Checking the Training on a Single Batch...\n",
      "Epoch  1, CIFAR-10 Batch 1:  Validation accuracy at 0.07500000298023224 Loss at 2.3074426651000977\n",
      "Epoch  2, CIFAR-10 Batch 1:  Validation accuracy at 0.07500000298023224 Loss at 2.305182933807373\n",
      "Epoch  3, CIFAR-10 Batch 1:  Validation accuracy at 0.07500000298023224 Loss at 2.288614273071289\n",
      "Epoch  4, CIFAR-10 Batch 1:  Validation accuracy at 0.20000000298023224 Loss at 2.1290698051452637\n",
      "Epoch  5, CIFAR-10 Batch 1:  Validation accuracy at 0.22500000894069672 Loss at 2.049250602722168\n",
      "Epoch  6, CIFAR-10 Batch 1:  Validation accuracy at 0.2750000059604645 Loss at 2.0211141109466553\n",
      "Epoch  7, CIFAR-10 Batch 1:  Validation accuracy at 0.32499998807907104 Loss at 2.000718116760254\n",
      "Epoch  8, CIFAR-10 Batch 1:  Validation accuracy at 0.25 Loss at 1.8737131357192993\n",
      "Epoch  9, CIFAR-10 Batch 1:  Validation accuracy at 0.32500001788139343 Loss at 1.7769560813903809\n",
      "Epoch 10, CIFAR-10 Batch 1:  Validation accuracy at 0.30000001192092896 Loss at 1.7391276359558105\n",
      "Epoch 11, CIFAR-10 Batch 1:  Validation accuracy at 0.3499999940395355 Loss at 1.6631561517715454\n",
      "Epoch 12, CIFAR-10 Batch 1:  Validation accuracy at 0.375 Loss at 1.6386713981628418\n",
      "Epoch 13, CIFAR-10 Batch 1:  Validation accuracy at 0.3499999940395355 Loss at 1.6239662170410156\n",
      "Epoch 14, CIFAR-10 Batch 1:  Validation accuracy at 0.4000000059604645 Loss at 1.5681312084197998\n",
      "Epoch 15, CIFAR-10 Batch 1:  Validation accuracy at 0.4000000059604645 Loss at 1.5845413208007812\n",
      "Epoch 16, CIFAR-10 Batch 1:  Validation accuracy at 0.42499998211860657 Loss at 1.6036518812179565\n",
      "Epoch 17, CIFAR-10 Batch 1:  Validation accuracy at 0.4749999940395355 Loss at 1.4917612075805664\n",
      "Epoch 18, CIFAR-10 Batch 1:  Validation accuracy at 0.5 Loss at 1.3991708755493164\n",
      "Epoch 19, CIFAR-10 Batch 1:  Validation accuracy at 0.5 Loss at 1.3992977142333984\n",
      "Epoch 20, CIFAR-10 Batch 1:  Validation accuracy at 0.4749999940395355 Loss at 1.378609299659729\n",
      "Epoch 21, CIFAR-10 Batch 1:  Validation accuracy at 0.4749999940395355 Loss at 1.3572596311569214\n",
      "Epoch 22, CIFAR-10 Batch 1:  Validation accuracy at 0.5 Loss at 1.3153693675994873\n",
      "Epoch 23, CIFAR-10 Batch 1:  Validation accuracy at 0.5750000476837158 Loss at 1.1762295961380005\n",
      "Epoch 24, CIFAR-10 Batch 1:  Validation accuracy at 0.6499999761581421 Loss at 1.1769137382507324\n",
      "Epoch 25, CIFAR-10 Batch 1:  Validation accuracy at 0.5750000476837158 Loss at 1.1459336280822754\n",
      "Epoch 26, CIFAR-10 Batch 1:  Validation accuracy at 0.625 Loss at 1.0842387676239014\n",
      "Epoch 27, CIFAR-10 Batch 1:  Validation accuracy at 0.6750000715255737 Loss at 1.0202724933624268\n",
      "Epoch 28, CIFAR-10 Batch 1:  Validation accuracy at 0.7000000476837158 Loss at 0.9837555885314941\n",
      "Epoch 29, CIFAR-10 Batch 1:  Validation accuracy at 0.7000000476837158 Loss at 0.9199680685997009\n",
      "Epoch 30, CIFAR-10 Batch 1:  Validation accuracy at 0.7000000476837158 Loss at 0.9347293376922607\n"
     ]
    }
   ],
   "source": [
    "\"\"\"\n",
    "DON'T MODIFY ANYTHING IN THIS CELL\n",
    "\"\"\"\n",
    "print('Checking the Training on a Single Batch...')\n",
    "with tf.Session() as sess:\n",
    "    # Initializing the variables\n",
    "    sess.run(tf.global_variables_initializer())\n",
    "    \n",
    "    # Training cycle\n",
    "    for epoch in range(epochs):\n",
    "        batch_i = 1\n",
    "        for batch_features, batch_labels in helper.load_preprocess_training_batch(batch_i, batch_size):\n",
    "            train_neural_network(sess, optimizer, keep_probability, batch_features, batch_labels)\n",
    "        print('Epoch {:>2}, CIFAR-10 Batch {}:  '.format(epoch + 1, batch_i), end='')\n",
    "        print_stats(sess, batch_features, batch_labels, cost, accuracy)"
   ]
  },
  {
   "cell_type": "markdown",
   "metadata": {},
   "source": [
    "### Fully Train the Model\n",
    "Now that you got a good accuracy with a single CIFAR-10 batch, try it with all five batches."
   ]
  },
  {
   "cell_type": "code",
   "execution_count": 86,
   "metadata": {
    "collapsed": false
   },
   "outputs": [
    {
     "name": "stdout",
     "output_type": "stream",
     "text": [
      "Training...\n",
      "Epoch  1, CIFAR-10 Batch 1:  Validation accuracy at 0.15000000596046448 Loss at 2.3190758228302\n",
      "Epoch  1, CIFAR-10 Batch 2:  Validation accuracy at 0.22500000894069672 Loss at 2.1755123138427734\n",
      "Epoch  1, CIFAR-10 Batch 3:  Validation accuracy at 0.22499999403953552 Loss at 1.898557186126709\n",
      "Epoch  1, CIFAR-10 Batch 4:  Validation accuracy at 0.20000000298023224 Loss at 1.903550386428833\n",
      "Epoch  1, CIFAR-10 Batch 5:  Validation accuracy at 0.3500000238418579 Loss at 1.7810076475143433\n",
      "Epoch  2, CIFAR-10 Batch 1:  Validation accuracy at 0.20000000298023224 Loss at 2.1522057056427\n",
      "Epoch  2, CIFAR-10 Batch 2:  Validation accuracy at 0.30000001192092896 Loss at 1.8343250751495361\n",
      "Epoch  2, CIFAR-10 Batch 3:  Validation accuracy at 0.2750000059604645 Loss at 1.6272549629211426\n",
      "Epoch  2, CIFAR-10 Batch 4:  Validation accuracy at 0.3499999940395355 Loss at 1.7255563735961914\n",
      "Epoch  2, CIFAR-10 Batch 5:  Validation accuracy at 0.42499998211860657 Loss at 1.6170865297317505\n",
      "Epoch  3, CIFAR-10 Batch 1:  Validation accuracy at 0.2750000059604645 Loss at 2.0075619220733643\n",
      "Epoch  3, CIFAR-10 Batch 2:  Validation accuracy at 0.4000000059604645 Loss at 1.7471156120300293\n",
      "Epoch  3, CIFAR-10 Batch 3:  Validation accuracy at 0.3499999940395355 Loss at 1.5475869178771973\n",
      "Epoch  3, CIFAR-10 Batch 4:  Validation accuracy at 0.3500000238418579 Loss at 1.6004480123519897\n",
      "Epoch  3, CIFAR-10 Batch 5:  Validation accuracy at 0.3500000238418579 Loss at 1.5476998090744019\n",
      "Epoch  4, CIFAR-10 Batch 1:  Validation accuracy at 0.30000001192092896 Loss at 1.8821496963500977\n",
      "Epoch  4, CIFAR-10 Batch 2:  Validation accuracy at 0.45000001788139343 Loss at 1.6686954498291016\n",
      "Epoch  4, CIFAR-10 Batch 3:  Validation accuracy at 0.375 Loss at 1.558503270149231\n",
      "Epoch  4, CIFAR-10 Batch 4:  Validation accuracy at 0.3999999761581421 Loss at 1.5506380796432495\n",
      "Epoch  4, CIFAR-10 Batch 5:  Validation accuracy at 0.42499998211860657 Loss at 1.4483482837677002\n",
      "Epoch  5, CIFAR-10 Batch 1:  Validation accuracy at 0.42500001192092896 Loss at 1.7485995292663574\n",
      "Epoch  5, CIFAR-10 Batch 2:  Validation accuracy at 0.42500001192092896 Loss at 1.5970358848571777\n",
      "Epoch  5, CIFAR-10 Batch 3:  Validation accuracy at 0.4750000238418579 Loss at 1.41935396194458\n",
      "Epoch  5, CIFAR-10 Batch 4:  Validation accuracy at 0.42500001192092896 Loss at 1.4694031476974487\n",
      "Epoch  5, CIFAR-10 Batch 5:  Validation accuracy at 0.5 Loss at 1.3508647680282593\n",
      "Epoch  6, CIFAR-10 Batch 1:  Validation accuracy at 0.42499998211860657 Loss at 1.6545422077178955\n",
      "Epoch  6, CIFAR-10 Batch 2:  Validation accuracy at 0.42500001192092896 Loss at 1.4946668148040771\n",
      "Epoch  6, CIFAR-10 Batch 3:  Validation accuracy at 0.5 Loss at 1.3441107273101807\n",
      "Epoch  6, CIFAR-10 Batch 4:  Validation accuracy at 0.4000000059604645 Loss at 1.400097370147705\n",
      "Epoch  6, CIFAR-10 Batch 5:  Validation accuracy at 0.45000001788139343 Loss at 1.3671835660934448\n",
      "Epoch  7, CIFAR-10 Batch 1:  Validation accuracy at 0.44999998807907104 Loss at 1.5647499561309814\n",
      "Epoch  7, CIFAR-10 Batch 2:  Validation accuracy at 0.550000011920929 Loss at 1.454077959060669\n",
      "Epoch  7, CIFAR-10 Batch 3:  Validation accuracy at 0.5 Loss at 1.2799886465072632\n",
      "Epoch  7, CIFAR-10 Batch 4:  Validation accuracy at 0.45000001788139343 Loss at 1.3400161266326904\n",
      "Epoch  7, CIFAR-10 Batch 5:  Validation accuracy at 0.550000011920929 Loss at 1.2187895774841309\n",
      "Epoch  8, CIFAR-10 Batch 1:  Validation accuracy at 0.550000011920929 Loss at 1.4765626192092896\n",
      "Epoch  8, CIFAR-10 Batch 2:  Validation accuracy at 0.6000000238418579 Loss at 1.32029128074646\n",
      "Epoch  8, CIFAR-10 Batch 3:  Validation accuracy at 0.5249999761581421 Loss at 1.2293102741241455\n",
      "Epoch  8, CIFAR-10 Batch 4:  Validation accuracy at 0.4000000059604645 Loss at 1.2934081554412842\n",
      "Epoch  8, CIFAR-10 Batch 5:  Validation accuracy at 0.5750000476837158 Loss at 1.23440682888031\n",
      "Epoch  9, CIFAR-10 Batch 1:  Validation accuracy at 0.5250000357627869 Loss at 1.4027297496795654\n",
      "Epoch  9, CIFAR-10 Batch 2:  Validation accuracy at 0.550000011920929 Loss at 1.373428225517273\n",
      "Epoch  9, CIFAR-10 Batch 3:  Validation accuracy at 0.5250000357627869 Loss at 1.2002512216567993\n",
      "Epoch  9, CIFAR-10 Batch 4:  Validation accuracy at 0.42500001192092896 Loss at 1.2544527053833008\n",
      "Epoch  9, CIFAR-10 Batch 5:  Validation accuracy at 0.550000011920929 Loss at 1.093822717666626\n",
      "Epoch 10, CIFAR-10 Batch 1:  Validation accuracy at 0.550000011920929 Loss at 1.2746822834014893\n",
      "Epoch 10, CIFAR-10 Batch 2:  Validation accuracy at 0.550000011920929 Loss at 1.245178461074829\n",
      "Epoch 10, CIFAR-10 Batch 3:  Validation accuracy at 0.550000011920929 Loss at 1.1969325542449951\n",
      "Epoch 10, CIFAR-10 Batch 4:  Validation accuracy at 0.5 Loss at 1.2603836059570312\n",
      "Epoch 10, CIFAR-10 Batch 5:  Validation accuracy at 0.6000000238418579 Loss at 1.1096545457839966\n",
      "Epoch 11, CIFAR-10 Batch 1:  Validation accuracy at 0.6000000238418579 Loss at 1.1995166540145874\n",
      "Epoch 11, CIFAR-10 Batch 2:  Validation accuracy at 0.574999988079071 Loss at 1.2056777477264404\n",
      "Epoch 11, CIFAR-10 Batch 3:  Validation accuracy at 0.5750000476837158 Loss at 1.0438076257705688\n",
      "Epoch 11, CIFAR-10 Batch 4:  Validation accuracy at 0.5250000357627869 Loss at 1.202843189239502\n",
      "Epoch 11, CIFAR-10 Batch 5:  Validation accuracy at 0.6000000238418579 Loss at 1.021470546722412\n",
      "Epoch 12, CIFAR-10 Batch 1:  Validation accuracy at 0.625 Loss at 1.178934931755066\n",
      "Epoch 12, CIFAR-10 Batch 2:  Validation accuracy at 0.6000000238418579 Loss at 1.1008579730987549\n",
      "Epoch 12, CIFAR-10 Batch 3:  Validation accuracy at 0.5750000476837158 Loss at 0.993524432182312\n",
      "Epoch 12, CIFAR-10 Batch 4:  Validation accuracy at 0.5750000476837158 Loss at 1.15625\n",
      "Epoch 12, CIFAR-10 Batch 5:  Validation accuracy at 0.574999988079071 Loss at 1.0595777034759521\n",
      "Epoch 13, CIFAR-10 Batch 1:  Validation accuracy at 0.7000000476837158 Loss at 1.1077595949172974\n",
      "Epoch 13, CIFAR-10 Batch 2:  Validation accuracy at 0.6749999523162842 Loss at 1.0160540342330933\n",
      "Epoch 13, CIFAR-10 Batch 3:  Validation accuracy at 0.5750000476837158 Loss at 0.9799787998199463\n",
      "Epoch 13, CIFAR-10 Batch 4:  Validation accuracy at 0.6499999761581421 Loss at 1.168602466583252\n",
      "Epoch 13, CIFAR-10 Batch 5:  Validation accuracy at 0.75 Loss at 0.9540818333625793\n",
      "Epoch 14, CIFAR-10 Batch 1:  Validation accuracy at 0.7000000476837158 Loss at 1.0174683332443237\n",
      "Epoch 14, CIFAR-10 Batch 2:  Validation accuracy at 0.625 Loss at 0.9967005848884583\n",
      "Epoch 14, CIFAR-10 Batch 3:  Validation accuracy at 0.6000000238418579 Loss at 0.9544782638549805\n",
      "Epoch 14, CIFAR-10 Batch 4:  Validation accuracy at 0.6000000238418579 Loss at 1.1607434749603271\n",
      "Epoch 14, CIFAR-10 Batch 5:  Validation accuracy at 0.7500000596046448 Loss at 0.9220184683799744\n",
      "Epoch 15, CIFAR-10 Batch 1:  Validation accuracy at 0.675000011920929 Loss at 1.021322250366211\n",
      "Epoch 15, CIFAR-10 Batch 2:  Validation accuracy at 0.6499999761581421 Loss at 0.9348297119140625\n",
      "Epoch 15, CIFAR-10 Batch 3:  Validation accuracy at 0.6750000715255737 Loss at 0.9305564761161804\n",
      "Epoch 15, CIFAR-10 Batch 4:  Validation accuracy at 0.5250000357627869 Loss at 1.1025389432907104\n",
      "Epoch 15, CIFAR-10 Batch 5:  Validation accuracy at 0.6500000357627869 Loss at 1.0136511325836182\n",
      "Epoch 16, CIFAR-10 Batch 1:  Validation accuracy at 0.7000000476837158 Loss at 0.9812634587287903\n",
      "Epoch 16, CIFAR-10 Batch 2:  Validation accuracy at 0.6749999523162842 Loss at 0.913355827331543\n",
      "Epoch 16, CIFAR-10 Batch 3:  Validation accuracy at 0.7000000476837158 Loss at 0.88017737865448\n",
      "Epoch 16, CIFAR-10 Batch 4:  Validation accuracy at 0.6000000238418579 Loss at 1.0976965427398682\n",
      "Epoch 16, CIFAR-10 Batch 5:  Validation accuracy at 0.7000000476837158 Loss at 0.913697361946106\n",
      "Epoch 17, CIFAR-10 Batch 1:  Validation accuracy at 0.7000000476837158 Loss at 0.9460210800170898\n",
      "Epoch 17, CIFAR-10 Batch 2:  Validation accuracy at 0.625 Loss at 0.8714657425880432\n",
      "Epoch 17, CIFAR-10 Batch 3:  Validation accuracy at 0.7000000476837158 Loss at 0.8079845309257507\n",
      "Epoch 17, CIFAR-10 Batch 4:  Validation accuracy at 0.7250000238418579 Loss at 1.034541130065918\n",
      "Epoch 17, CIFAR-10 Batch 5:  Validation accuracy at 0.7250000238418579 Loss at 0.8523691892623901\n",
      "Epoch 18, CIFAR-10 Batch 1:  Validation accuracy at 0.7749999761581421 Loss at 0.8797247409820557\n",
      "Epoch 18, CIFAR-10 Batch 2:  Validation accuracy at 0.675000011920929 Loss at 0.8622766733169556\n",
      "Epoch 18, CIFAR-10 Batch 3:  Validation accuracy at 0.7250000238418579 Loss at 0.7990127205848694\n",
      "Epoch 18, CIFAR-10 Batch 4:  Validation accuracy at 0.675000011920929 Loss at 0.9701796770095825\n",
      "Epoch 18, CIFAR-10 Batch 5:  Validation accuracy at 0.7750000953674316 Loss at 0.8376384377479553\n",
      "Epoch 19, CIFAR-10 Batch 1:  Validation accuracy at 0.7000000476837158 Loss at 0.8314686417579651\n",
      "Epoch 19, CIFAR-10 Batch 2:  Validation accuracy at 0.7000000476837158 Loss at 0.8314509391784668\n",
      "Epoch 19, CIFAR-10 Batch 3:  Validation accuracy at 0.7749999761581421 Loss at 0.7394617795944214\n",
      "Epoch 19, CIFAR-10 Batch 4:  Validation accuracy at 0.7249999642372131 Loss at 0.951113224029541\n",
      "Epoch 19, CIFAR-10 Batch 5:  Validation accuracy at 0.8000000715255737 Loss at 0.7785520553588867\n",
      "Epoch 20, CIFAR-10 Batch 1:  Validation accuracy at 0.75 Loss at 0.8138041496276855\n",
      "Epoch 20, CIFAR-10 Batch 2:  Validation accuracy at 0.7250000238418579 Loss at 0.795312225818634\n",
      "Epoch 20, CIFAR-10 Batch 3:  Validation accuracy at 0.75 Loss at 0.683856725692749\n",
      "Epoch 20, CIFAR-10 Batch 4:  Validation accuracy at 0.75 Loss at 0.9316940307617188\n",
      "Epoch 20, CIFAR-10 Batch 5:  Validation accuracy at 0.7749999761581421 Loss at 0.7884377837181091\n",
      "Epoch 21, CIFAR-10 Batch 1:  Validation accuracy at 0.75 Loss at 0.8143668174743652\n",
      "Epoch 21, CIFAR-10 Batch 2:  Validation accuracy at 0.7000000476837158 Loss at 0.7445934414863586\n",
      "Epoch 21, CIFAR-10 Batch 3:  Validation accuracy at 0.699999988079071 Loss at 0.6655182242393494\n",
      "Epoch 21, CIFAR-10 Batch 4:  Validation accuracy at 0.7250000238418579 Loss at 0.9279826879501343\n",
      "Epoch 21, CIFAR-10 Batch 5:  Validation accuracy at 0.75 Loss at 0.7922403216362\n",
      "Epoch 22, CIFAR-10 Batch 1:  Validation accuracy at 0.7250000238418579 Loss at 0.8350172638893127\n",
      "Epoch 22, CIFAR-10 Batch 2:  Validation accuracy at 0.7500000596046448 Loss at 0.787045419216156\n",
      "Epoch 22, CIFAR-10 Batch 3:  Validation accuracy at 0.7749999761581421 Loss at 0.6283097863197327\n",
      "Epoch 22, CIFAR-10 Batch 4:  Validation accuracy at 0.6750000715255737 Loss at 0.8764023184776306\n",
      "Epoch 22, CIFAR-10 Batch 5:  Validation accuracy at 0.8000000715255737 Loss at 0.7308796644210815\n",
      "Epoch 23, CIFAR-10 Batch 1:  Validation accuracy at 0.7750000357627869 Loss at 0.7095701694488525\n",
      "Epoch 23, CIFAR-10 Batch 2:  Validation accuracy at 0.7750000357627869 Loss at 0.699135959148407\n",
      "Epoch 23, CIFAR-10 Batch 3:  Validation accuracy at 0.8250000476837158 Loss at 0.5959675908088684\n",
      "Epoch 23, CIFAR-10 Batch 4:  Validation accuracy at 0.800000011920929 Loss at 0.8165013790130615\n",
      "Epoch 23, CIFAR-10 Batch 5:  Validation accuracy at 0.8000000715255737 Loss at 0.7744710445404053\n",
      "Epoch 24, CIFAR-10 Batch 1:  Validation accuracy at 0.8250000476837158 Loss at 0.6753096580505371\n",
      "Epoch 24, CIFAR-10 Batch 2:  Validation accuracy at 0.800000011920929 Loss at 0.6715128421783447\n",
      "Epoch 24, CIFAR-10 Batch 3:  Validation accuracy at 0.8250000476837158 Loss at 0.5821799635887146\n",
      "Epoch 24, CIFAR-10 Batch 4:  Validation accuracy at 0.800000011920929 Loss at 0.8538537621498108\n",
      "Epoch 24, CIFAR-10 Batch 5:  Validation accuracy at 0.75 Loss at 0.7058618664741516\n",
      "Epoch 25, CIFAR-10 Batch 1:  Validation accuracy at 0.75 Loss at 0.7460886240005493\n",
      "Epoch 25, CIFAR-10 Batch 2:  Validation accuracy at 0.7250000238418579 Loss at 0.7294862270355225\n",
      "Epoch 25, CIFAR-10 Batch 3:  Validation accuracy at 0.8000000715255737 Loss at 0.5971169471740723\n",
      "Epoch 25, CIFAR-10 Batch 4:  Validation accuracy at 0.75 Loss at 0.848061203956604\n",
      "Epoch 25, CIFAR-10 Batch 5:  Validation accuracy at 0.8250000476837158 Loss at 0.6657685041427612\n",
      "Epoch 26, CIFAR-10 Batch 1:  Validation accuracy at 0.7749999761581421 Loss at 0.6865711212158203\n",
      "Epoch 26, CIFAR-10 Batch 2:  Validation accuracy at 0.7750000357627869 Loss at 0.6856132745742798\n",
      "Epoch 26, CIFAR-10 Batch 3:  Validation accuracy at 0.8250000476837158 Loss at 0.5608670711517334\n",
      "Epoch 26, CIFAR-10 Batch 4:  Validation accuracy at 0.824999988079071 Loss at 0.7930779457092285\n",
      "Epoch 26, CIFAR-10 Batch 5:  Validation accuracy at 0.75 Loss at 0.724000871181488\n",
      "Epoch 27, CIFAR-10 Batch 1:  Validation accuracy at 0.8500000238418579 Loss at 0.6116622090339661\n",
      "Epoch 27, CIFAR-10 Batch 2:  Validation accuracy at 0.7500000596046448 Loss at 0.7204656600952148\n",
      "Epoch 27, CIFAR-10 Batch 3:  Validation accuracy at 0.8500000238418579 Loss at 0.5747171640396118\n",
      "Epoch 27, CIFAR-10 Batch 4:  Validation accuracy at 0.75 Loss at 0.7535828351974487\n",
      "Epoch 27, CIFAR-10 Batch 5:  Validation accuracy at 0.8000000715255737 Loss at 0.7103212475776672\n",
      "Epoch 28, CIFAR-10 Batch 1:  Validation accuracy at 0.7250000238418579 Loss at 0.68567955493927\n",
      "Epoch 28, CIFAR-10 Batch 2:  Validation accuracy at 0.7250000238418579 Loss at 0.7147353887557983\n",
      "Epoch 28, CIFAR-10 Batch 3:  Validation accuracy at 0.8250000476837158 Loss at 0.4850000739097595\n",
      "Epoch 28, CIFAR-10 Batch 4:  Validation accuracy at 0.7999999523162842 Loss at 0.7385480403900146\n",
      "Epoch 28, CIFAR-10 Batch 5:  Validation accuracy at 0.8000000715255737 Loss at 0.7120453119277954\n",
      "Epoch 29, CIFAR-10 Batch 1:  Validation accuracy at 0.7250000238418579 Loss at 0.7341228723526001\n",
      "Epoch 29, CIFAR-10 Batch 2:  Validation accuracy at 0.7250000238418579 Loss at 0.7144426107406616\n",
      "Epoch 29, CIFAR-10 Batch 3:  Validation accuracy at 0.8750000596046448 Loss at 0.4787498116493225\n",
      "Epoch 29, CIFAR-10 Batch 4:  Validation accuracy at 0.7750000357627869 Loss at 0.706478476524353\n",
      "Epoch 29, CIFAR-10 Batch 5:  Validation accuracy at 0.75 Loss at 0.6413742303848267\n",
      "Epoch 30, CIFAR-10 Batch 1:  Validation accuracy at 0.75 Loss at 0.6583318710327148\n",
      "Epoch 30, CIFAR-10 Batch 2:  Validation accuracy at 0.800000011920929 Loss at 0.636893630027771\n",
      "Epoch 30, CIFAR-10 Batch 3:  Validation accuracy at 0.8500000834465027 Loss at 0.4869275987148285\n",
      "Epoch 30, CIFAR-10 Batch 4:  Validation accuracy at 0.8500000238418579 Loss at 0.6962884068489075\n",
      "Epoch 30, CIFAR-10 Batch 5:  Validation accuracy at 0.8500000238418579 Loss at 0.5814130306243896\n"
     ]
    }
   ],
   "source": [
    "\"\"\"\n",
    "DON'T MODIFY ANYTHING IN THIS CELL\n",
    "\"\"\"\n",
    "save_model_path = './image_classification'\n",
    "\n",
    "print('Training...')\n",
    "with tf.Session() as sess:\n",
    "    # Initializing the variables\n",
    "    sess.run(tf.global_variables_initializer())\n",
    "    \n",
    "    # Training cycle\n",
    "    for epoch in range(epochs):\n",
    "        # Loop over all batches\n",
    "        n_batches = 5\n",
    "        for batch_i in range(1, n_batches + 1):\n",
    "            for batch_features, batch_labels in helper.load_preprocess_training_batch(batch_i, batch_size):\n",
    "                train_neural_network(sess, optimizer, keep_probability, batch_features, batch_labels)\n",
    "            print('Epoch {:>2}, CIFAR-10 Batch {}:  '.format(epoch + 1, batch_i), end='')\n",
    "            print_stats(sess, batch_features, batch_labels, cost, accuracy)\n",
    "            \n",
    "    # Save Model\n",
    "    saver = tf.train.Saver()\n",
    "    save_path = saver.save(sess, save_model_path)"
   ]
  },
  {
   "cell_type": "markdown",
   "metadata": {},
   "source": [
    "# Checkpoint\n",
    "The model has been saved to disk.\n",
    "## Test Model\n",
    "Test your model against the test dataset.  This will be your final accuracy. You should have an accuracy greater than 50%. If you don't, keep tweaking the model architecture and parameters."
   ]
  },
  {
   "cell_type": "code",
   "execution_count": 88,
   "metadata": {
    "collapsed": false,
    "scrolled": true
   },
   "outputs": [
    {
     "name": "stdout",
     "output_type": "stream",
     "text": [
      "INFO:tensorflow:Restoring parameters from ./image_classification\n",
      "Testing Accuracy: 0.6469541139240507\n",
      "\n"
     ]
    },
    {
     "data": {
      "image/png": "[encoded data removed]",
      "text/plain": [
       "<matplotlib.figure.Figure at 0x7fac59a3f2b0>"
      ]
     },
     "metadata": {
      "image/png": {
       "height": 319,
       "width": 355
      }
     },
     "output_type": "display_data"
    }
   ],
   "source": [
    "\"\"\"\n",
    "DON'T MODIFY ANYTHING IN THIS CELL\n",
    "\"\"\"\n",
    "%matplotlib inline\n",
    "%config InlineBackend.figure_format = 'retina'\n",
    "\n",
    "import tensorflow as tf\n",
    "import pickle\n",
    "import helper\n",
    "import random\n",
    "\n",
    "# Set batch size if not already set\n",
    "try:\n",
    "    if batch_size:\n",
    "        pass\n",
    "except NameError:\n",
    "    batch_size = 64\n",
    "\n",
    "save_model_path = './image_classification'\n",
    "n_samples = 4\n",
    "top_n_predictions = 3\n",
    "\n",
    "def test_model():\n",
    "    \"\"\"\n",
    "    Test the saved model against the test dataset\n",
    "    \"\"\"\n",
    "\n",
    "    test_features, test_labels = pickle.load(open('preprocess_training.p', mode='rb'))\n",
    "    loaded_graph = tf.Graph()\n",
    "\n",
    "    with tf.Session(graph=loaded_graph) as sess:\n",
    "        # Load model\n",
    "        loader = tf.train.import_meta_graph(save_model_path + '.meta')\n",
    "        loader.restore(sess, save_model_path)\n",
    "\n",
    "        # Get Tensors from loaded model\n",
    "        loaded_x = loaded_graph.get_tensor_by_name('x:0')\n",
    "        loaded_y = loaded_graph.get_tensor_by_name('y:0')\n",
    "        loaded_keep_prob = loaded_graph.get_tensor_by_name('keep_prob:0')\n",
    "        loaded_logits = loaded_graph.get_tensor_by_name('logits:0')\n",
    "        loaded_acc = loaded_graph.get_tensor_by_name('accuracy:0')\n",
    "        \n",
    "        # Get accuracy in batches for memory limitations\n",
    "        test_batch_acc_total = 0\n",
    "        test_batch_count = 0\n",
    "        \n",
    "        for train_feature_batch, train_label_batch in helper.batch_features_labels(test_features, test_labels, batch_size):\n",
    "            test_batch_acc_total += sess.run(\n",
    "                loaded_acc,\n",
    "                feed_dict={loaded_x: train_feature_batch, loaded_y: train_label_batch, loaded_keep_prob: 1.0})\n",
    "            test_batch_count += 1\n",
    "\n",
    "        print('Testing Accuracy: {}\\n'.format(test_batch_acc_total/test_batch_count))\n",
    "\n",
    "        # Print Random Samples\n",
    "        random_test_features, random_test_labels = tuple(zip(*random.sample(list(zip(test_features, test_labels)), n_samples)))\n",
    "        random_test_predictions = sess.run(\n",
    "            tf.nn.top_k(tf.nn.softmax(loaded_logits), top_n_predictions),\n",
    "            feed_dict={loaded_x: random_test_features, loaded_y: random_test_labels, loaded_keep_prob: 1.0})\n",
    "        helper.display_image_predictions(random_test_features, random_test_labels, random_test_predictions)\n",
    "\n",
    "\n",
    "test_model()"
   ]
  },
  {
   "cell_type": "markdown",
   "metadata": {},
   "source": [
    "## Why 50-70% Accuracy?\n",
    "You might be wondering why you can't get an accuracy any higher. First things first, 50% isn't bad for a simple CNN.  Pure guessing would get you 10% accuracy. However, you might notice people are getting scores [well above 70%](http://rodrigob.github.io/are_we_there_yet/build/classification_datasets_results.html#43494641522d3130).  That's because we haven't taught you all there is to know about neural networks. We still need to cover a few more techniques.\n",
    "## Submitting This Project\n",
    "When submitting this project, make sure to run all the cells before saving the notebook.  Save the notebook file as \"dlnd_image_classification.ipynb\" and save it as a HTML file under \"File\" -> \"Download as\".  Include the \"helper.py\" and \"problem_unittests.py\" files in your submission."
   ]
  }
 ],
 "metadata": {
  "kernelspec": {
   "display_name": "Python 3",
   "language": "python",
   "name": "python3"
  },
  "language_info": {
   "codemirror_mode": {
    "name": "ipython",
    "version": 3
   },
   "file_extension": ".py",
   "mimetype": "text/x-python",
   "name": "python",
   "nbconvert_exporter": "python",
   "pygments_lexer": "ipython3",
   "version": "3.5.3"
  }
 },
 "nbformat": 4,
 "nbformat_minor": 0
}
