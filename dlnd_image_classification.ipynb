{
 "cells": [
  {
   "cell_type": "markdown",
   "metadata": {
    "collapsed": true
   },
   "source": [
    "# Image Classification\n",
    "In this project, you'll classify images from the [CIFAR-10 dataset](https://www.cs.toronto.edu/~kriz/cifar.html).  The dataset consists of airplanes, dogs, cats, and other objects. You'll preprocess the images, then train a convolutional neural network on all the samples. The images need to be normalized and the labels need to be one-hot encoded.  You'll get to apply what you learned and build a convolutional, max pooling, dropout, and fully connected layers.  At the end, you'll get to see your neural network's predictions on the sample images.\n",
    "## Get the Data\n",
    "Run the following cell to download the [CIFAR-10 dataset for python](https://www.cs.toronto.edu/~kriz/cifar-10-python.tar.gz)."
   ]
  },
  {
   "cell_type": "code",
   "execution_count": 70,
   "metadata": {
    "collapsed": false
   },
   "outputs": [
    {
     "name": "stdout",
     "output_type": "stream",
     "text": [
      "All files found!\n"
     ]
    }
   ],
   "source": [
    "\"\"\"\n",
    "DON'T MODIFY ANYTHING IN THIS CELL THAT IS BELOW THIS LINE\n",
    "\"\"\"\n",
    "from urllib.request import urlretrieve\n",
    "from os.path import isfile, isdir\n",
    "from sklearn import preprocessing\n",
    "from tqdm import tqdm\n",
    "import problem_unittests as tests\n",
    "import tarfile\n",
    "\n",
    "cifar10_dataset_folder_path = 'cifar-10-batches-py'\n",
    "\n",
    "class DLProgress(tqdm):\n",
    "    last_block = 0\n",
    "\n",
    "    def hook(self, block_num=1, block_size=1, total_size=None):\n",
    "        self.total = total_size\n",
    "        self.update((block_num - self.last_block) * block_size)\n",
    "        self.last_block = block_num\n",
    "\n",
    "if not isfile('cifar-10-python.tar.gz'):\n",
    "    with DLProgress(unit='B', unit_scale=True, miniters=1, desc='CIFAR-10 Dataset') as pbar:\n",
    "        urlretrieve(\n",
    "            'https://www.cs.toronto.edu/~kriz/cifar-10-python.tar.gz',\n",
    "            'cifar-10-python.tar.gz',\n",
    "            pbar.hook)\n",
    "\n",
    "if not isdir(cifar10_dataset_folder_path):\n",
    "    with tarfile.open('cifar-10-python.tar.gz') as tar:\n",
    "        tar.extractall()\n",
    "        tar.close()\n",
    "\n",
    "\n",
    "tests.test_folder_path(cifar10_dataset_folder_path)"
   ]
  },
  {
   "cell_type": "markdown",
   "metadata": {},
   "source": [
    "## Explore the Data\n",
    "The dataset is broken into batches to prevent your machine from running out of memory.  The CIFAR-10 dataset consists of 5 batches, named `data_batch_1`, `data_batch_2`, etc.. Each batch contains the labels and images that are one of the following:\n",
    "* airplane\n",
    "* automobile\n",
    "* bird\n",
    "* cat\n",
    "* deer\n",
    "* dog\n",
    "* frog\n",
    "* horse\n",
    "* ship\n",
    "* truck\n",
    "\n",
    "Understanding a dataset is part of making predictions on the data.  Play around with the code cell below by changing the `batch_id` and `sample_id`. The `batch_id` is the id for a batch (1-5). The `sample_id` is the id for a image and label pair in the batch.\n",
    "\n",
    "Ask yourself \"What are all possible labels?\", \"What is the range of values for the image data?\", \"Are the labels in order or random?\".  Answers to questions like these will help you preprocess the data and end up with better predictions."
   ]
  },
  {
   "cell_type": "code",
   "execution_count": 71,
   "metadata": {
    "collapsed": false
   },
   "outputs": [
    {
     "name": "stdout",
     "output_type": "stream",
     "text": [
      "\n",
      "Stats of batch 2:\n",
      "Samples: 10000\n",
      "Label Counts: {0: 984, 1: 1007, 2: 1010, 3: 995, 4: 1010, 5: 988, 6: 1008, 7: 1026, 8: 987, 9: 985}\n",
      "First 20 Labels: [1, 6, 6, 8, 8, 3, 4, 6, 0, 6, 0, 3, 6, 6, 5, 4, 8, 3, 2, 6]\n",
      "\n",
      "Example of Image 2:\n",
      "Image - Min Value: 0 Max Value: 240\n",
      "Image - Shape: (32, 32, 3)\n",
      "Label - Label Id: 6 Name: frog\n"
     ]
    },
    {
     "data": {
      "image/png": "[encoded data removed]",
      "text/plain": [
       "<matplotlib.figure.Figure at 0x7fac59ddbf28>"
      ]
     },
     "metadata": {
      "image/png": {
       "height": 250,
       "width": 253
      }
     },
     "output_type": "display_data"
    }
   ],
   "source": [
    "%matplotlib inline\n",
    "%config InlineBackend.figure_format = 'retina'\n",
    "\n",
    "import helper\n",
    "import numpy as np\n",
    "\n",
    "# Explore the dataset\n",
    "batch_id = 2\n",
    "sample_id = 2\n",
    "helper.display_stats(cifar10_dataset_folder_path, batch_id, sample_id)"
   ]
  },
  {
   "cell_type": "markdown",
   "metadata": {},
   "source": [
    "## Implement Preprocess Functions\n",
    "### Normalize\n",
    "In the cell below, implement the `normalize` function to take in image data, `x`, and return it as a normalized Numpy array. The values should be in the range of 0 to 1, inclusive.  The return object should be the same shape as `x`."
   ]
  },
  {
   "cell_type": "code",
   "execution_count": 72,
   "metadata": {
    "collapsed": false
   },
   "outputs": [
    {
     "name": "stdout",
     "output_type": "stream",
     "text": [
      "Tests Passed\n"
     ]
    }
   ],
   "source": [
    "def normalize(x):\n",
    "    \"\"\"\n",
    "    Normalize a list of sample image data in the range of 0 to 1\n",
    "    : x: List of image data.  The image shape is (32, 32, 3)\n",
    "    : return: Numpy array of normalize data\n",
    "    \"\"\"\n",
    "    return 0.1 + (x - x.min())*0.8/(x.max()-x.min())\n",
    "\n",
    "\n",
    "\"\"\"\n",
    "DON'T MODIFY ANYTHING IN THIS CELL THAT IS BELOW THIS LINE\n",
    "\"\"\"\n",
    "tests.test_normalize(normalize)"
   ]
  },
  {
   "cell_type": "markdown",
   "metadata": {},
   "source": [
    "### One-hot encode\n",
    "Just like the previous code cell, you'll be implementing a function for preprocessing.  This time, you'll implement the `one_hot_encode` function. The input, `x`, are a list of labels.  Implement the function to return the list of labels as One-Hot encoded Numpy array.  The possible values for labels are 0 to 9. The one-hot encoding function should return the same encoding for each value between each call to `one_hot_encode`.  Make sure to save the map of encodings outside the function.\n",
    "\n",
    "Hint: Don't reinvent the wheel."
   ]
  },
  {
   "cell_type": "code",
   "execution_count": 73,
   "metadata": {
    "collapsed": false
   },
   "outputs": [
    {
     "name": "stdout",
     "output_type": "stream",
     "text": [
      "Tests Passed\n"
     ]
    }
   ],
   "source": [
    "encoded_labels = dict()\n",
    "\n",
    "def one_hot_encode(x):\n",
    "    \"\"\"\n",
    "    One hot encode a list of sample labels. Return a one-hot encoded vector for each label.\n",
    "    : x: List of sample Labels\n",
    "    : return: Numpy array of one-hot encoded labels\n",
    "    \"\"\"\n",
    "    return_labels = []\n",
    "    re_encode = False\n",
    "    for label in x:\n",
    "        if label not in encoded_labels:\n",
    "            re_encode = True\n",
    "            encoded_labels[label] = []\n",
    "\n",
    "    if re_encode:       \n",
    "        to_encode = []\n",
    "        for key, value in encoded_labels.items():\n",
    "            to_encode.append(key)\n",
    "        encoder = preprocessing.LabelBinarizer()\n",
    "        encoder.fit(to_encode)\n",
    "        new_labels = encoder.transform(to_encode)\n",
    "        for i in range(len(new_labels)):\n",
    "            encoded_labels[to_encode[i]] = new_labels[i]\n",
    "    \n",
    "    for label in x: \n",
    "        return_labels.append(encoded_labels[label])\n",
    "\n",
    "    # Change to float32, so it can be multiplied against the features in TensorFlow, which are float32\n",
    "    return np.asarray(return_labels, dtype=np.float32)\n",
    "\n",
    "\n",
    "\"\"\"\n",
    "DON'T MODIFY ANYTHING IN THIS CELL THAT IS BELOW THIS LINE\n",
    "\"\"\"\n",
    "tests.test_one_hot_encode(one_hot_encode)"
   ]
  },
  {
   "cell_type": "markdown",
   "metadata": {},
   "source": [
    "### Randomize Data\n",
    "As you saw from exploring the data above, the order of the samples are randomized.  It doesn't hurt to randomize it again, but you don't need to for this dataset."
   ]
  },
  {
   "cell_type": "markdown",
   "metadata": {},
   "source": [
    "## Preprocess all the data and save it\n",
    "Running the code cell below will preprocess all the CIFAR-10 data and save it to file. The code below also uses 10% of the training data for validation."
   ]
  },
  {
   "cell_type": "code",
   "execution_count": 74,
   "metadata": {
    "collapsed": false
   },
   "outputs": [],
   "source": [
    "\"\"\"\n",
    "DON'T MODIFY ANYTHING IN THIS CELL\n",
    "\"\"\"\n",
    "# Preprocess Training, Validation, and Testing Data\n",
    "helper.preprocess_and_save_data(cifar10_dataset_folder_path, normalize, one_hot_encode)"
   ]
  },
  {
   "cell_type": "markdown",
   "metadata": {},
   "source": [
    "# Check Point\n",
    "This is your first checkpoint.  If you ever decide to come back to this notebook or have to restart the notebook, you can start from here.  The preprocessed data has been saved to disk."
   ]
  },
  {
   "cell_type": "code",
   "execution_count": 1,
   "metadata": {
    "collapsed": true
   },
   "outputs": [],
   "source": [
    "\"\"\"\n",
    "DON'T MODIFY ANYTHING IN THIS CELL\n",
    "\"\"\"\n",
    "import pickle\n",
    "import problem_unittests as tests\n",
    "import helper\n",
    "\n",
    "# Load the Preprocessed Validation data\n",
    "valid_features, valid_labels = pickle.load(open('preprocess_validation.p', mode='rb'))"
   ]
  },
  {
   "cell_type": "markdown",
   "metadata": {},
   "source": [
    "## Build the network\n",
    "For the neural network, you'll build each layer into a function.  Most of the code you've seen has been outside of functions. To test your code more thoroughly, we require that you put each layer in a function.  This allows us to give you better feedback and test for simple mistakes using our unittests before you submit your project.\n",
    "\n",
    ">**Note:** If you're finding it hard to dedicate enough time for this course each week, we've provided a small shortcut to this part of the project. In the next couple of problems, you'll have the option to use classes from the [TensorFlow Layers](https://www.tensorflow.org/api_docs/python/tf/layers) or [TensorFlow Layers (contrib)](https://www.tensorflow.org/api_guides/python/contrib.layers) packages to build each layer, except the layers you build in the \"Convolutional and Max Pooling Layer\" section.  TF Layers is similar to Keras's and TFLearn's abstraction to layers, so it's easy to pickup.\n",
    "\n",
    ">However, if you would like to get the most out of this course, try to solve all the problems _without_ using anything from the TF Layers packages. You **can** still use classes from other packages that happen to have the same name as ones you find in TF Layers! For example, instead of using the TF Layers version of the `conv2d` class, [tf.layers.conv2d](https://www.tensorflow.org/api_docs/python/tf/layers/conv2d), you would want to use the TF Neural Network version of `conv2d`, [tf.nn.conv2d](https://www.tensorflow.org/api_docs/python/tf/nn/conv2d). \n",
    "\n",
    "Let's begin!\n",
    "\n",
    "### Input\n",
    "The neural network needs to read the image data, one-hot encoded labels, and dropout keep probability. Implement the following functions\n",
    "* Implement `neural_net_image_input`\n",
    " * Return a [TF Placeholder](https://www.tensorflow.org/api_docs/python/tf/placeholder)\n",
    " * Set the shape using `image_shape` with batch size set to `None`.\n",
    " * Name the TensorFlow placeholder \"x\" using the TensorFlow `name` parameter in the [TF Placeholder](https://www.tensorflow.org/api_docs/python/tf/placeholder).\n",
    "* Implement `neural_net_label_input`\n",
    " * Return a [TF Placeholder](https://www.tensorflow.org/api_docs/python/tf/placeholder)\n",
    " * Set the shape using `n_classes` with batch size set to `None`.\n",
    " * Name the TensorFlow placeholder \"y\" using the TensorFlow `name` parameter in the [TF Placeholder](https://www.tensorflow.org/api_docs/python/tf/placeholder).\n",
    "* Implement `neural_net_keep_prob_input`\n",
    " * Return a [TF Placeholder](https://www.tensorflow.org/api_docs/python/tf/placeholder) for dropout keep probability.\n",
    " * Name the TensorFlow placeholder \"keep_prob\" using the TensorFlow `name` parameter in the [TF Placeholder](https://www.tensorflow.org/api_docs/python/tf/placeholder).\n",
    "\n",
    "These names will be used at the end of the project to load your saved model.\n",
    "\n",
    "Note: `None` for shapes in TensorFlow allow for a dynamic size."
   ]
  },
  {
   "cell_type": "code",
   "execution_count": 2,
   "metadata": {
    "collapsed": false
   },
   "outputs": [
    {
     "name": "stdout",
     "output_type": "stream",
     "text": [
      "Image Input Tests Passed.\n",
      "Label Input Tests Passed.\n",
      "Keep Prob Tests Passed.\n"
     ]
    }
   ],
   "source": [
    "import tensorflow as tf\n",
    "\n",
    "def neural_net_image_input(image_shape):\n",
    "    \"\"\"\n",
    "    Return a Tensor for a bach of image input\n",
    "    : image_shape: Shape of the images\n",
    "    : return: Tensor for image input.\n",
    "    \"\"\"\n",
    "    shape = [None]\n",
    "    for s in image_shape:\n",
    "        shape.append(s)\n",
    "    \n",
    "    return tf.placeholder(tf.float32, shape=shape, name='x')\n",
    "    \n",
    "\n",
    "def neural_net_label_input(n_classes):\n",
    "    \"\"\"\n",
    "    Return a Tensor for a batch of label input\n",
    "    : n_classes: Number of classes\n",
    "    : return: Tensor for label input.\n",
    "    \"\"\"\n",
    "    return tf.placeholder(tf.float32, shape=[None,n_classes],name='y')\n",
    "    \n",
    "\n",
    "def neural_net_keep_prob_input():\n",
    "    \"\"\"\n",
    "    Return a Tensor for keep probability\n",
    "    : return: Tensor for keep probability.\n",
    "    \"\"\"\n",
    "    return tf.placeholder(tf.float32, name='keep_prob')\n",
    "\n",
    "\n",
    "\"\"\"\n",
    "DON'T MODIFY ANYTHING IN THIS CELL THAT IS BELOW THIS LINE\n",
    "\"\"\"\n",
    "tf.reset_default_graph()\n",
    "tests.test_nn_image_inputs(neural_net_image_input)\n",
    "tests.test_nn_label_inputs(neural_net_label_input)\n",
    "tests.test_nn_keep_prob_inputs(neural_net_keep_prob_input)"
   ]
  },
  {
   "cell_type": "markdown",
   "metadata": {},
   "source": [
    "### Convolution and Max Pooling Layer\n",
    "Convolution layers have a lot of success with images. For this code cell, you should implement the function `conv2d_maxpool` to apply convolution then max pooling:\n",
    "* Create the weight and bias using `conv_ksize`, `conv_num_outputs` and the shape of `x_tensor`.\n",
    "* Apply a convolution to `x_tensor` using weight and `conv_strides`.\n",
    " * We recommend you use same padding, but you're welcome to use any padding.\n",
    "* Add bias\n",
    "* Add a nonlinear activation to the convolution.\n",
    "* Apply Max Pooling using `pool_ksize` and `pool_strides`.\n",
    " * We recommend you use same padding, but you're welcome to use any padding.\n",
    "\n",
    "**Note:** You **can't** use [TensorFlow Layers](https://www.tensorflow.org/api_docs/python/tf/layers) or [TensorFlow Layers (contrib)](https://www.tensorflow.org/api_guides/python/contrib.layers) for **this** layer, but you can still use TensorFlow's [Neural Network](https://www.tensorflow.org/api_docs/python/tf/nn) package. You may still use the shortcut option for all the **other** layers."
   ]
  },
  {
   "cell_type": "code",
   "execution_count": 3,
   "metadata": {
    "collapsed": false
   },
   "outputs": [
    {
     "name": "stdout",
     "output_type": "stream",
     "text": [
      "Tests Passed\n"
     ]
    }
   ],
   "source": [
    "def conv2d_maxpool(x_tensor, conv_num_outputs, conv_ksize, conv_strides, pool_ksize, pool_strides):\n",
    "    \"\"\"\n",
    "    Apply convolution then max pooling to x_tensor\n",
    "    :param x_tensor: TensorFlow Tensor\n",
    "    :param conv_num_outputs: Number of outputs for the convolutional layer\n",
    "    :param conv_ksize: kernal size 2-D Tuple for the convolutional layer\n",
    "    :param conv_strides: Stride 2-D Tuple for convolution\n",
    "    :param pool_ksize: kernal size 2-D Tuple for pool\n",
    "    :param pool_strides: Stride 2-D Tuple for pool\n",
    "    : return: A tensor that represents convolution and max pooling of x_tensor\n",
    "    \"\"\"\n",
    "    # Filter (weights and bias)\n",
    "    x_shape = x_tensor.get_shape().as_list() \n",
    "        \n",
    "    F_W = tf.Variable(tf.random_normal([conv_ksize[0],conv_ksize[1], x_shape[3] , conv_num_outputs], mean=0.0, stddev=0.05))\n",
    "    F_b = tf.Variable(tf.zeros(conv_num_outputs))\n",
    "\n",
    "    conv_layer = tf.nn.conv2d(x_tensor, F_W, [1,conv_strides[0],conv_strides[1],1], 'SAME')\n",
    "    conv_layer = tf.nn.bias_add(conv_layer, F_b)\n",
    "    conv_layer = tf.nn.relu(conv_layer)\n",
    "    \n",
    "    return tf.nn.max_pool(conv_layer, ksize=[1, pool_ksize[0], pool_ksize[1], 1], \\\n",
    "                          strides=[1, pool_strides[0], pool_strides[1], 1],\\\n",
    "                          padding='SAME')\n",
    "\n",
    "\"\"\"\n",
    "DON'T MODIFY ANYTHING IN THIS CELL THAT IS BELOW THIS LINE\n",
    "\"\"\"\n",
    "tests.test_con_pool(conv2d_maxpool)"
   ]
  },
  {
   "cell_type": "markdown",
   "metadata": {},
   "source": [
    "### Flatten Layer\n",
    "Implement the `flatten` function to change the dimension of `x_tensor` from a 4-D tensor to a 2-D tensor.  The output should be the shape (*Batch Size*, *Flattened Image Size*). Shortcut option: you can use classes from the [TensorFlow Layers](https://www.tensorflow.org/api_docs/python/tf/layers) or [TensorFlow Layers (contrib)](https://www.tensorflow.org/api_guides/python/contrib.layers) packages for this layer. For more of a challenge, only use other TensorFlow packages."
   ]
  },
  {
   "cell_type": "code",
   "execution_count": 4,
   "metadata": {
    "collapsed": false
   },
   "outputs": [
    {
     "name": "stdout",
     "output_type": "stream",
     "text": [
      "Tests Passed\n"
     ]
    }
   ],
   "source": [
    "def flatten(x_tensor):\n",
    "    \"\"\"\n",
    "    Flatten x_tensor to (Batch Size, Flattened Image Size)\n",
    "    : x_tensor: A tensor of size (Batch Size, ...), where ... are the image dimensions.\n",
    "    : return: A tensor of size (Batch Size, Flattened Image Size).\n",
    "    \"\"\"\n",
    "    shape = x_tensor.get_shape().as_list()\n",
    "    size = shape[1]*shape[2]*shape[3]\n",
    "    return tf.reshape(x_tensor, [-1, size])\n",
    "\n",
    "\"\"\"\n",
    "DON'T MODIFY ANYTHING IN THIS CELL THAT IS BELOW THIS LINE\n",
    "\"\"\"\n",
    "tests.test_flatten(flatten)"
   ]
  },
  {
   "cell_type": "markdown",
   "metadata": {},
   "source": [
    "### Fully-Connected Layer\n",
    "Implement the `fully_conn` function to apply a fully connected layer to `x_tensor` with the shape (*Batch Size*, *num_outputs*). Shortcut option: you can use classes from the [TensorFlow Layers](https://www.tensorflow.org/api_docs/python/tf/layers) or [TensorFlow Layers (contrib)](https://www.tensorflow.org/api_guides/python/contrib.layers) packages for this layer. For more of a challenge, only use other TensorFlow packages."
   ]
  },
  {
   "cell_type": "code",
   "execution_count": 5,
   "metadata": {
    "collapsed": false
   },
   "outputs": [
    {
     "name": "stdout",
     "output_type": "stream",
     "text": [
      "Tests Passed\n"
     ]
    }
   ],
   "source": [
    "def fully_conn(x_tensor, num_outputs):\n",
    "    \"\"\"\n",
    "    Apply a fully connected layer to x_tensor using weight and bias\n",
    "    : x_tensor: A 2-D tensor where the first dimension is batch size.\n",
    "    : num_outputs: The number of output that the new tensor should be.\n",
    "    : return: A 2-D tensor where the second dimension is num_outputs.\n",
    "    \"\"\"\n",
    "    \n",
    "    \n",
    "    dims = x_tensor.get_shape().as_list()[1] #[0] is batch size\n",
    "    F_w = tf.Variable(tf.random_normal([dims, num_outputs], mean=0.0, stddev=0.05))\n",
    "    F_b = tf.Variable(tf.zeros(num_outputs))\n",
    "    v_res = tf.add(tf.matmul(x_tensor, F_w), F_b)\n",
    "    return tf.nn.relu(v_res)\n",
    "    \n",
    "\"\"\"\n",
    "DON'T MODIFY ANYTHING IN THIS CELL THAT IS BELOW THIS LINE\n",
    "\"\"\"\n",
    "tests.test_fully_conn(fully_conn)"
   ]
  },
  {
   "cell_type": "markdown",
   "metadata": {},
   "source": [
    "### Output Layer\n",
    "Implement the `output` function to apply a fully connected layer to `x_tensor` with the shape (*Batch Size*, *num_outputs*). Shortcut option: you can use classes from the [TensorFlow Layers](https://www.tensorflow.org/api_docs/python/tf/layers) or [TensorFlow Layers (contrib)](https://www.tensorflow.org/api_guides/python/contrib.layers) packages for this layer. For more of a challenge, only use other TensorFlow packages.\n",
    "\n",
    "**Note:** Activation, softmax, or cross entropy should **not** be applied to this."
   ]
  },
  {
   "cell_type": "code",
   "execution_count": 6,
   "metadata": {
    "collapsed": false
   },
   "outputs": [
    {
     "name": "stdout",
     "output_type": "stream",
     "text": [
      "Tests Passed\n"
     ]
    }
   ],
   "source": [
    "def output(x_tensor, num_outputs):\n",
    "    \"\"\"\n",
    "    Apply a output layer to x_tensor using weight and bias\n",
    "    : x_tensor: A 2-D tensor where the first dimension is batch size.\n",
    "    : num_outputs: The number of output that the new tensor should be.\n",
    "    : return: A 2-D tensor where the second dimension is num_outputs.\n",
    "    \"\"\"\n",
    "    O_w = tf.Variable(tf.random_normal([x_tensor.get_shape().as_list()[1], num_outputs], mean=0.0, stddev=0.05))\n",
    "    O_b = tf.Variable(tf.random_normal([num_outputs]))\n",
    "    return tf.add(tf.matmul(x_tensor, O_w),O_b)\n",
    "\n",
    "    \n",
    "\"\"\"\n",
    "DON'T MODIFY ANYTHING IN THIS CELL THAT IS BELOW THIS LINE\n",
    "\"\"\"\n",
    "tests.test_output(output)"
   ]
  },
  {
   "cell_type": "markdown",
   "metadata": {},
   "source": [
    "### Create Convolutional Model\n",
    "Implement the function `conv_net` to create a convolutional neural network model. The function takes in a batch of images, `x`, and outputs logits.  Use the layers you created above to create this model:\n",
    "\n",
    "* Apply 1, 2, or 3 Convolution and Max Pool layers\n",
    "* Apply a Flatten Layer\n",
    "* Apply 1, 2, or 3 Fully Connected Layers\n",
    "* Apply an Output Layer\n",
    "* Return the output\n",
    "* Apply [TensorFlow's Dropout](https://www.tensorflow.org/api_docs/python/tf/nn/dropout) to one or more layers in the model using `keep_prob`. "
   ]
  },
  {
   "cell_type": "code",
   "execution_count": 7,
   "metadata": {
    "collapsed": false
   },
   "outputs": [
    {
     "name": "stdout",
     "output_type": "stream",
     "text": [
      "Neural Network Built!\n"
     ]
    }
   ],
   "source": [
    "def conv_net(x, keep_prob):\n",
    "    \"\"\"\n",
    "    Create a convolutional neural network model\n",
    "    : x: Placeholder tensor that holds image data.\n",
    "    : keep_prob: Placeholder tensor that hold dropout keep probability.\n",
    "    : return: Tensor that represents logits\n",
    "    \"\"\"\n",
    "    # TODO: Apply 1, 2, or 3 Convolution and Max Pool layers\n",
    "    #    Play around with different number of outputs, kernel size and stride\n",
    "    # Function Definition from Above:\n",
    "    #    conv2d_maxpool(x_tensor, conv_num_outputs, conv_ksize, conv_strides, pool_ksize, pool_strides)\n",
    "    conv_outputs1 = 16\n",
    "    conv_ksize1 = (5, 5)\n",
    "    conv_strides1 = (1, 1)\n",
    "    pool_k1 = (2, 2)\n",
    "    pool_strides1 = (2, 2)\n",
    "    conv_net = conv2d_maxpool(x, conv_outputs1, conv_ksize1, conv_strides1, pool_k1, pool_strides1)\n",
    "    \n",
    "    conv_outputs2 = 64\n",
    "    conv_ksize2 = (2, 2)\n",
    "    conv_strides2 = (1, 1)\n",
    "    pool_k2 = (2, 2)\n",
    "    pool_strides2 = (2, 2)\n",
    "    conv_net = conv2d_maxpool(conv_net, conv_outputs2, conv_ksize2, conv_strides2, pool_k2, pool_strides2)\n",
    "    \n",
    "    conv_outputs3 = 128\n",
    "    conv_ksize3 = (2, 2)\n",
    "    conv_strides3 = (1, 1)\n",
    "    pool_k3 = (2, 2)\n",
    "    pool_strides3 = (1, 1)\n",
    "    conv_net = conv2d_maxpool(conv_net, conv_outputs2, conv_ksize2, conv_strides2, pool_k2, pool_strides2)\n",
    "    \n",
    "  \n",
    "\n",
    "    # TODO: Apply a Flatten Layer\n",
    "    # Function Definition from Above:\n",
    "    conv_net = flatten(conv_net)\n",
    "    \n",
    "\n",
    "    # TODO: Apply 1, 2, or 3 Fully Connected Layers\n",
    "    #    Play around with different number of outputs\n",
    "    # Function Definition from Above:\n",
    "    conv_net = fully_conn(conv_net, 100)\n",
    "    conv_net = tf.nn.dropout(conv_net, keep_prob)\n",
    "    \n",
    "    conv_net = fully_conn(conv_net, 50)\n",
    "    conv_net = tf.nn.dropout(conv_net, keep_prob)\n",
    "    \n",
    "    \n",
    "    conv_net = fully_conn(conv_net, 200)\n",
    "    conv_net = tf.nn.dropout(conv_net, keep_prob)\n",
    "    \n",
    "    # TODO: Apply an Output Layer\n",
    "    #    Set this to the number of classes\n",
    "    # Function Definition from Above:\n",
    "    return output(conv_net, 10)\n",
    "    \n",
    "    \n",
    "\n",
    "\"\"\"\n",
    "DON'T MODIFY ANYTHING IN THIS CELL THAT IS BELOW THIS LINE\n",
    "\"\"\"\n",
    "\n",
    "##############################\n",
    "## Build the Neural Network ##\n",
    "##############################\n",
    "\n",
    "# Remove previous weights, bias, inputs, etc..\n",
    "tf.reset_default_graph()\n",
    "\n",
    "# Inputs\n",
    "x = neural_net_image_input((32, 32, 3))\n",
    "y = neural_net_label_input(10)\n",
    "keep_prob = neural_net_keep_prob_input()\n",
    "\n",
    "# Model\n",
    "logits = conv_net(x, keep_prob)\n",
    "\n",
    "# Name logits Tensor, so that is can be loaded from disk after training\n",
    "logits = tf.identity(logits, name='logits')\n",
    "\n",
    "# Loss and Optimizer\n",
    "cost = tf.reduce_mean(tf.nn.softmax_cross_entropy_with_logits(logits=logits, labels=y))\n",
    "optimizer = tf.train.AdamOptimizer().minimize(cost)\n",
    "\n",
    "# Accuracy\n",
    "correct_pred = tf.equal(tf.argmax(logits, 1), tf.argmax(y, 1))\n",
    "accuracy = tf.reduce_mean(tf.cast(correct_pred, tf.float32), name='accuracy')\n",
    "\n",
    "tests.test_conv_net(conv_net)"
   ]
  },
  {
   "cell_type": "markdown",
   "metadata": {},
   "source": [
    "## Train the Neural Network\n",
    "### Single Optimization\n",
    "Implement the function `train_neural_network` to do a single optimization.  The optimization should use `optimizer` to optimize in `session` with a `feed_dict` of the following:\n",
    "* `x` for image input\n",
    "* `y` for labels\n",
    "* `keep_prob` for keep probability for dropout\n",
    "\n",
    "This function will be called for each batch, so `tf.global_variables_initializer()` has already been called.\n",
    "\n",
    "Note: Nothing needs to be returned. This function is only optimizing the neural network."
   ]
  },
  {
   "cell_type": "code",
   "execution_count": 8,
   "metadata": {
    "collapsed": false
   },
   "outputs": [
    {
     "name": "stdout",
     "output_type": "stream",
     "text": [
      "Tests Passed\n"
     ]
    }
   ],
   "source": [
    "def train_neural_network(session, optimizer, keep_probability, feature_batch, label_batch):\n",
    "    \"\"\"\n",
    "    Optimize the session on a batch of images and labels\n",
    "    : session: Current TensorFlow session\n",
    "    : optimizer: TensorFlow optimizer function\n",
    "    : keep_probability: keep probability\n",
    "    : feature_batch: Batch of Numpy image data\n",
    "    : label_batch: Batch of Numpy label data\n",
    "    \"\"\"\n",
    "        # Run optimizer and get loss\n",
    "    optimizer = session.run(\n",
    "        [optimizer],\n",
    "        feed_dict={x: feature_batch, y: label_batch, keep_prob: keep_probability})\n",
    "    pass\n",
    "\n",
    "\n",
    "\"\"\"\n",
    "DON'T MODIFY ANYTHING IN THIS CELL THAT IS BELOW THIS LINE\n",
    "\"\"\"\n",
    "tests.test_train_nn(train_neural_network)"
   ]
  },
  {
   "cell_type": "markdown",
   "metadata": {},
   "source": [
    "### Show Stats\n",
    "Implement the function `print_stats` to print loss and validation accuracy.  Use the global variables `valid_features` and `valid_labels` to calculate validation accuracy.  Use a keep probability of `1.0` to calculate the loss and validation accuracy."
   ]
  },
  {
   "cell_type": "code",
   "execution_count": 14,
   "metadata": {
    "collapsed": false
   },
   "outputs": [],
   "source": [
    "def print_stats(session, feature_batch, label_batch, cost, accuracy):\n",
    "    \"\"\"\n",
    "    Print information about loss and validation accuracy\n",
    "    : session: Current TensorFlow session\n",
    "    : feature_batch: Batch of Numpy image data\n",
    "    : label_batch: Batch of Numpy label data\n",
    "    : cost: TensorFlow cost function\n",
    "    : accuracy: TensorFlow accuracy function\n",
    "    \"\"\"\n",
    "    \n",
    "    \n",
    "    valid_feed_dict = {x: valid_features, y: valid_labels, keep_prob: 1.0}\n",
    "    train_feed_dict = {x: feature_batch, y: label_batch, keep_prob: 1.0}\n",
    "\n",
    "    validation_accuracy = session.run(accuracy, feed_dict = valid_feed_dict)\n",
    "    validation_loss = session.run(cost, feed_dict=valid_feed_dict)  \n",
    "    train_loss = session.run(cost, feed_dict=train_feed_dict) \n",
    "    \n",
    "    print('Valid. accuracy at {}'.format(validation_accuracy), 'Valid. loss at {}'.format(validation_loss),\\\n",
    "          'Train loss at {}'.format(train_loss))\n",
    "\n",
    "    \n",
    "    pass"
   ]
  },
  {
   "cell_type": "markdown",
   "metadata": {},
   "source": [
    "### Hyperparameters\n",
    "Tune the following parameters:\n",
    "* Set `epochs` to the number of iterations until the network stops learning or start overfitting\n",
    "* Set `batch_size` to the highest number that your machine has memory for.  Most people set them to common sizes of memory:\n",
    " * 64\n",
    " * 128\n",
    " * 256\n",
    " * ...\n",
    "* Set `keep_probability` to the probability of keeping a node using dropout"
   ]
  },
  {
   "cell_type": "code",
   "execution_count": 25,
   "metadata": {
    "collapsed": true
   },
   "outputs": [],
   "source": [
    "# TODO: Tune Parameters\n",
    "epochs =35\n",
    "batch_size = 128\n",
    "keep_probability = 0.50"
   ]
  },
  {
   "cell_type": "markdown",
   "metadata": {},
   "source": [
    "### Train on a Single CIFAR-10 Batch\n",
    "Instead of training the neural network on all the CIFAR-10 batches of data, let's use a single batch. This should save time while you iterate on the model to get a better accuracy.  Once the final validation accuracy is 50% or greater, run the model on all the data in the next section."
   ]
  },
  {
   "cell_type": "code",
   "execution_count": 26,
   "metadata": {
    "collapsed": false
   },
   "outputs": [
    {
     "name": "stdout",
     "output_type": "stream",
     "text": [
      "Checking the Training on a Single Batch...\n",
      "Epoch  1, CIFAR-10 Batch 1:  Valid. accuracy at 0.11179998517036438 Valid. loss at 2.311738967895508 Train loss at 2.302492618560791\n",
      "Epoch  2, CIFAR-10 Batch 1:  Valid. accuracy at 0.149399995803833 Valid. loss at 2.250971555709839 Train loss at 2.256598711013794\n",
      "Epoch  3, CIFAR-10 Batch 1:  Valid. accuracy at 0.1680000126361847 Valid. loss at 2.2020339965820312 Train loss at 2.20757794380188\n",
      "Epoch  4, CIFAR-10 Batch 1:  Valid. accuracy at 0.19760000705718994 Valid. loss at 2.1333234310150146 Train loss at 2.1454012393951416\n",
      "Epoch  5, CIFAR-10 Batch 1:  Valid. accuracy at 0.17379999160766602 Valid. loss at 2.1499667167663574 Train loss at 2.1969847679138184\n",
      "Epoch  6, CIFAR-10 Batch 1:  Valid. accuracy at 0.24739998579025269 Valid. loss at 2.0195109844207764 Train loss at 2.1246209144592285\n",
      "Epoch  7, CIFAR-10 Batch 1:  Valid. accuracy at 0.274399995803833 Valid. loss at 1.9435005187988281 Train loss at 2.1045193672180176\n",
      "Epoch  8, CIFAR-10 Batch 1:  Valid. accuracy at 0.32819998264312744 Valid. loss at 1.729384183883667 Train loss at 1.913377285003662\n",
      "Epoch  9, CIFAR-10 Batch 1:  Valid. accuracy at 0.34759998321533203 Valid. loss at 1.6956933736801147 Train loss at 1.8155771493911743\n",
      "Epoch 10, CIFAR-10 Batch 1:  Valid. accuracy at 0.3641999661922455 Valid. loss at 1.6580859422683716 Train loss at 1.7777801752090454\n",
      "Epoch 11, CIFAR-10 Batch 1:  Valid. accuracy at 0.36719995737075806 Valid. loss at 1.626766324043274 Train loss at 1.7460075616836548\n",
      "Epoch 12, CIFAR-10 Batch 1:  Valid. accuracy at 0.40139997005462646 Valid. loss at 1.6009567975997925 Train loss at 1.6696193218231201\n",
      "Epoch 13, CIFAR-10 Batch 1:  Valid. accuracy at 0.3967999815940857 Valid. loss at 1.596218228340149 Train loss at 1.6740281581878662\n",
      "Epoch 14, CIFAR-10 Batch 1:  Valid. accuracy at 0.42239996790885925 Valid. loss at 1.5355587005615234 Train loss at 1.5116859674453735\n",
      "Epoch 15, CIFAR-10 Batch 1:  Valid. accuracy at 0.4217999577522278 Valid. loss at 1.5536420345306396 Train loss at 1.5098259449005127\n",
      "Epoch 16, CIFAR-10 Batch 1:  Valid. accuracy at 0.40459996461868286 Valid. loss at 1.580758810043335 Train loss at 1.5357940196990967\n",
      "Epoch 17, CIFAR-10 Batch 1:  Valid. accuracy at 0.4183999300003052 Valid. loss at 1.568468689918518 Train loss at 1.4858195781707764\n",
      "Epoch 18, CIFAR-10 Batch 1:  Valid. accuracy at 0.44839996099472046 Valid. loss at 1.4635486602783203 Train loss at 1.3092303276062012\n",
      "Epoch 19, CIFAR-10 Batch 1:  Valid. accuracy at 0.44979995489120483 Valid. loss at 1.4548225402832031 Train loss at 1.2855890989303589\n",
      "Epoch 20, CIFAR-10 Batch 1:  Valid. accuracy at 0.4471999704837799 Valid. loss at 1.4958821535110474 Train loss at 1.2635554075241089\n",
      "Epoch 21, CIFAR-10 Batch 1:  Valid. accuracy at 0.45959994196891785 Valid. loss at 1.4549373388290405 Train loss at 1.2122761011123657\n",
      "Epoch 22, CIFAR-10 Batch 1:  Valid. accuracy at 0.4771999418735504 Valid. loss at 1.4355522394180298 Train loss at 1.1244218349456787\n",
      "Epoch 23, CIFAR-10 Batch 1:  Valid. accuracy at 0.46859994530677795 Valid. loss at 1.4635009765625 Train loss at 1.1484302282333374\n",
      "Epoch 24, CIFAR-10 Batch 1:  Valid. accuracy at 0.4843999445438385 Valid. loss at 1.4170045852661133 Train loss at 1.0572419166564941\n",
      "Epoch 25, CIFAR-10 Batch 1:  Valid. accuracy at 0.4909999370574951 Valid. loss at 1.428940773010254 Train loss at 1.1266579627990723\n",
      "Epoch 26, CIFAR-10 Batch 1:  Valid. accuracy at 0.5097999572753906 Valid. loss at 1.373201608657837 Train loss at 0.9406336545944214\n",
      "Epoch 27, CIFAR-10 Batch 1:  Valid. accuracy at 0.5071999430656433 Valid. loss at 1.358997106552124 Train loss at 0.9036773443222046\n",
      "Epoch 28, CIFAR-10 Batch 1:  Valid. accuracy at 0.500999927520752 Valid. loss at 1.4313135147094727 Train loss at 0.9223641753196716\n",
      "Epoch 29, CIFAR-10 Batch 1:  Valid. accuracy at 0.5147998929023743 Valid. loss at 1.376847743988037 Train loss at 0.9334762096405029\n",
      "Epoch 30, CIFAR-10 Batch 1:  Valid. accuracy at 0.5245999693870544 Valid. loss at 1.3392601013183594 Train loss at 0.8054869174957275\n",
      "Epoch 31, CIFAR-10 Batch 1:  Valid. accuracy at 0.51419997215271 Valid. loss at 1.3949302434921265 Train loss at 0.8174067139625549\n",
      "Epoch 32, CIFAR-10 Batch 1:  Valid. accuracy at 0.5369999408721924 Valid. loss at 1.3428336381912231 Train loss at 0.838935136795044\n",
      "Epoch 33, CIFAR-10 Batch 1:  Valid. accuracy at 0.5343999266624451 Valid. loss at 1.3485816717147827 Train loss at 0.7354485392570496\n",
      "Epoch 34, CIFAR-10 Batch 1:  Valid. accuracy at 0.5295999050140381 Valid. loss at 1.3563954830169678 Train loss at 0.7234783172607422\n",
      "Epoch 35, CIFAR-10 Batch 1:  Valid. accuracy at 0.5299999713897705 Valid. loss at 1.3539824485778809 Train loss at 0.7219157814979553\n"
     ]
    }
   ],
   "source": [
    "\"\"\"\n",
    "DON'T MODIFY ANYTHING IN THIS CELL\n",
    "\"\"\"\n",
    "print('Checking the Training on a Single Batch...')\n",
    "with tf.Session() as sess:\n",
    "    # Initializing the variables\n",
    "    sess.run(tf.global_variables_initializer())\n",
    "    \n",
    "    # Training cycle\n",
    "    for epoch in range(epochs):\n",
    "        batch_i = 1\n",
    "        for batch_features, batch_labels in helper.load_preprocess_training_batch(batch_i, batch_size):\n",
    "            train_neural_network(sess, optimizer, keep_probability, batch_features, batch_labels)\n",
    "        print('Epoch {:>2}, CIFAR-10 Batch {}:  '.format(epoch + 1, batch_i), end='')\n",
    "        print_stats(sess, batch_features, batch_labels, cost, accuracy)"
   ]
  },
  {
   "cell_type": "markdown",
   "metadata": {},
   "source": [
    "### Fully Train the Model\n",
    "Now that you got a good accuracy with a single CIFAR-10 batch, try it with all five batches."
   ]
  },
  {
   "cell_type": "code",
   "execution_count": 27,
   "metadata": {
    "collapsed": false
   },
   "outputs": [
    {
     "name": "stdout",
     "output_type": "stream",
     "text": [
      "Training...\n",
      "Epoch  1, CIFAR-10 Batch 1:  Valid. accuracy at 0.10539999604225159 Valid. loss at 2.3419857025146484 Train loss at 2.3423006534576416\n",
      "Epoch  1, CIFAR-10 Batch 2:  Valid. accuracy at 0.10520000010728836 Valid. loss at 2.3121302127838135 Train loss at 2.3073081970214844\n",
      "Epoch  1, CIFAR-10 Batch 3:  Valid. accuracy at 0.125 Valid. loss at 2.2987701892852783 Train loss at 2.3011045455932617\n",
      "Epoch  1, CIFAR-10 Batch 4:  Valid. accuracy at 0.12960000336170197 Valid. loss at 2.2776753902435303 Train loss at 2.2562623023986816\n",
      "Epoch  1, CIFAR-10 Batch 5:  Valid. accuracy at 0.19599999487400055 Valid. loss at 2.0939905643463135 Train loss at 2.140636444091797\n",
      "Epoch  2, CIFAR-10 Batch 1:  Valid. accuracy at 0.20500001311302185 Valid. loss at 1.9752644300460815 Train loss at 2.1503093242645264\n",
      "Epoch  2, CIFAR-10 Batch 2:  Valid. accuracy at 0.21819999814033508 Valid. loss at 1.9103138446807861 Train loss at 2.0194997787475586\n",
      "Epoch  2, CIFAR-10 Batch 3:  Valid. accuracy at 0.2680000066757202 Valid. loss at 1.8699594736099243 Train loss at 1.7163326740264893\n",
      "Epoch  2, CIFAR-10 Batch 4:  Valid. accuracy at 0.30239996314048767 Valid. loss at 1.8195685148239136 Train loss at 1.7816033363342285\n",
      "Epoch  2, CIFAR-10 Batch 5:  Valid. accuracy at 0.3296000361442566 Valid. loss at 1.7581706047058105 Train loss at 1.725343942642212\n",
      "Epoch  3, CIFAR-10 Batch 1:  Valid. accuracy at 0.3527999520301819 Valid. loss at 1.7012395858764648 Train loss at 1.9053468704223633\n",
      "Epoch  3, CIFAR-10 Batch 2:  Valid. accuracy at 0.33799999952316284 Valid. loss at 1.6953227519989014 Train loss at 1.7939385175704956\n",
      "Epoch  3, CIFAR-10 Batch 3:  Valid. accuracy at 0.3483999967575073 Valid. loss at 1.6711262464523315 Train loss at 1.5380882024765015\n",
      "Epoch  3, CIFAR-10 Batch 4:  Valid. accuracy at 0.3564000129699707 Valid. loss at 1.6543471813201904 Train loss at 1.5651917457580566\n",
      "Epoch  3, CIFAR-10 Batch 5:  Valid. accuracy at 0.4059999883174896 Valid. loss at 1.572750210762024 Train loss at 1.6363645792007446\n",
      "Epoch  4, CIFAR-10 Batch 1:  Valid. accuracy at 0.40880000591278076 Valid. loss at 1.5516793727874756 Train loss at 1.6761884689331055\n",
      "Epoch  4, CIFAR-10 Batch 2:  Valid. accuracy at 0.4249999523162842 Valid. loss at 1.5273399353027344 Train loss at 1.6564009189605713\n",
      "Epoch  4, CIFAR-10 Batch 3:  Valid. accuracy at 0.3991999924182892 Valid. loss at 1.5781686305999756 Train loss at 1.4026705026626587\n",
      "Epoch  4, CIFAR-10 Batch 4:  Valid. accuracy at 0.43219998478889465 Valid. loss at 1.501603126525879 Train loss at 1.4455418586730957\n",
      "Epoch  4, CIFAR-10 Batch 5:  Valid. accuracy at 0.4357999861240387 Valid. loss at 1.4918112754821777 Train loss at 1.550041913986206\n",
      "Epoch  5, CIFAR-10 Batch 1:  Valid. accuracy at 0.42800000309944153 Valid. loss at 1.5018277168273926 Train loss at 1.6289259195327759\n",
      "Epoch  5, CIFAR-10 Batch 2:  Valid. accuracy at 0.46519994735717773 Valid. loss at 1.4335403442382812 Train loss at 1.4557931423187256\n",
      "Epoch  5, CIFAR-10 Batch 3:  Valid. accuracy at 0.4553999602794647 Valid. loss at 1.4850077629089355 Train loss at 1.3220832347869873\n",
      "Epoch  5, CIFAR-10 Batch 4:  Valid. accuracy at 0.4575999975204468 Valid. loss at 1.4395561218261719 Train loss at 1.3833876848220825\n",
      "Epoch  5, CIFAR-10 Batch 5:  Valid. accuracy at 0.4505999684333801 Valid. loss at 1.4858890771865845 Train loss at 1.5276705026626587\n",
      "Epoch  6, CIFAR-10 Batch 1:  Valid. accuracy at 0.49779993295669556 Valid. loss at 1.3691977262496948 Train loss at 1.4285671710968018\n",
      "Epoch  6, CIFAR-10 Batch 2:  Valid. accuracy at 0.4971999526023865 Valid. loss at 1.359428882598877 Train loss at 1.3123427629470825\n",
      "Epoch  6, CIFAR-10 Batch 3:  Valid. accuracy at 0.480199933052063 Valid. loss at 1.3916075229644775 Train loss at 1.262539029121399\n",
      "Epoch  6, CIFAR-10 Batch 4:  Valid. accuracy at 0.4833999276161194 Valid. loss at 1.386596918106079 Train loss at 1.3484543561935425\n",
      "Epoch  6, CIFAR-10 Batch 5:  Valid. accuracy at 0.48499998450279236 Valid. loss at 1.3972887992858887 Train loss at 1.4132819175720215\n",
      "Epoch  7, CIFAR-10 Batch 1:  Valid. accuracy at 0.5031999349594116 Valid. loss at 1.3444472551345825 Train loss at 1.3473631143569946\n",
      "Epoch  7, CIFAR-10 Batch 2:  Valid. accuracy at 0.5007999539375305 Valid. loss at 1.3527363538742065 Train loss at 1.2588863372802734\n",
      "Epoch  7, CIFAR-10 Batch 3:  Valid. accuracy at 0.514799952507019 Valid. loss at 1.327444076538086 Train loss at 1.1698744297027588\n",
      "Epoch  7, CIFAR-10 Batch 4:  Valid. accuracy at 0.5149999856948853 Valid. loss at 1.3010376691818237 Train loss at 1.2556898593902588\n",
      "Epoch  7, CIFAR-10 Batch 5:  Valid. accuracy at 0.5003999471664429 Valid. loss at 1.3309389352798462 Train loss at 1.2594294548034668\n",
      "Epoch  8, CIFAR-10 Batch 1:  Valid. accuracy at 0.5251999497413635 Valid. loss at 1.3169240951538086 Train loss at 1.3409197330474854\n",
      "Epoch  8, CIFAR-10 Batch 2:  Valid. accuracy at 0.533799946308136 Valid. loss at 1.2702974081039429 Train loss at 1.1920593976974487\n",
      "Epoch  8, CIFAR-10 Batch 3:  Valid. accuracy at 0.5415999293327332 Valid. loss at 1.2671825885772705 Train loss at 1.1251944303512573\n",
      "Epoch  8, CIFAR-10 Batch 4:  Valid. accuracy at 0.5295999646186829 Valid. loss at 1.2925920486450195 Train loss at 1.194016695022583\n",
      "Epoch  8, CIFAR-10 Batch 5:  Valid. accuracy at 0.556399941444397 Valid. loss at 1.2246267795562744 Train loss at 1.1621475219726562\n",
      "Epoch  9, CIFAR-10 Batch 1:  Valid. accuracy at 0.5577999353408813 Valid. loss at 1.2526531219482422 Train loss at 1.1673041582107544\n",
      "Epoch  9, CIFAR-10 Batch 2:  Valid. accuracy at 0.5547999143600464 Valid. loss at 1.202301263809204 Train loss at 1.1442586183547974\n",
      "Epoch  9, CIFAR-10 Batch 3:  Valid. accuracy at 0.5431999564170837 Valid. loss at 1.247152328491211 Train loss at 1.0622751712799072\n",
      "Epoch  9, CIFAR-10 Batch 4:  Valid. accuracy at 0.5501999855041504 Valid. loss at 1.2663017511367798 Train loss at 1.1070897579193115\n",
      "Epoch  9, CIFAR-10 Batch 5:  Valid. accuracy at 0.562999963760376 Valid. loss at 1.2114267349243164 Train loss at 1.0774738788604736\n",
      "Epoch 10, CIFAR-10 Batch 1:  Valid. accuracy at 0.5619999170303345 Valid. loss at 1.2253708839416504 Train loss at 1.0975717306137085\n",
      "Epoch 10, CIFAR-10 Batch 2:  Valid. accuracy at 0.5751999616622925 Valid. loss at 1.1896792650222778 Train loss at 1.0409904718399048\n",
      "Epoch 10, CIFAR-10 Batch 3:  Valid. accuracy at 0.5701999664306641 Valid. loss at 1.1870698928833008 Train loss at 1.0400060415267944\n",
      "Epoch 10, CIFAR-10 Batch 4:  Valid. accuracy at 0.5641999244689941 Valid. loss at 1.2433215379714966 Train loss at 1.1018009185791016\n",
      "Epoch 10, CIFAR-10 Batch 5:  Valid. accuracy at 0.5661998987197876 Valid. loss at 1.2048405408859253 Train loss at 1.0786901712417603\n",
      "Epoch 11, CIFAR-10 Batch 1:  Valid. accuracy at 0.5717998743057251 Valid. loss at 1.199059247970581 Train loss at 1.038106083869934\n",
      "Epoch 11, CIFAR-10 Batch 2:  Valid. accuracy at 0.5869998931884766 Valid. loss at 1.165466070175171 Train loss at 1.0782204866409302\n",
      "Epoch 11, CIFAR-10 Batch 3:  Valid. accuracy at 0.5753999352455139 Valid. loss at 1.1880815029144287 Train loss at 0.8959039449691772\n",
      "Epoch 11, CIFAR-10 Batch 4:  Valid. accuracy at 0.5875999331474304 Valid. loss at 1.158490538597107 Train loss at 1.1036580801010132\n",
      "Epoch 11, CIFAR-10 Batch 5:  Valid. accuracy at 0.5865998864173889 Valid. loss at 1.183180570602417 Train loss at 0.9375760555267334\n",
      "Epoch 12, CIFAR-10 Batch 1:  Valid. accuracy at 0.5951999425888062 Valid. loss at 1.1575549840927124 Train loss at 0.9395129084587097\n",
      "Epoch 12, CIFAR-10 Batch 2:  Valid. accuracy at 0.6045998930931091 Valid. loss at 1.1350603103637695 Train loss at 0.9573958516120911\n",
      "Epoch 12, CIFAR-10 Batch 3:  Valid. accuracy at 0.6041998863220215 Valid. loss at 1.1357163190841675 Train loss at 0.8959494233131409\n",
      "Epoch 12, CIFAR-10 Batch 4:  Valid. accuracy at 0.5989999175071716 Valid. loss at 1.1503806114196777 Train loss at 1.0365113019943237\n",
      "Epoch 12, CIFAR-10 Batch 5:  Valid. accuracy at 0.5871999263763428 Valid. loss at 1.1525644063949585 Train loss at 0.9791536331176758\n",
      "Epoch 13, CIFAR-10 Batch 1:  Valid. accuracy at 0.611799955368042 Valid. loss at 1.120986819267273 Train loss at 0.9558937549591064\n",
      "Epoch 13, CIFAR-10 Batch 2:  Valid. accuracy at 0.5937999486923218 Valid. loss at 1.1339566707611084 Train loss at 0.8628425598144531\n",
      "Epoch 13, CIFAR-10 Batch 3:  Valid. accuracy at 0.6113998889923096 Valid. loss at 1.1224007606506348 Train loss at 0.8879411220550537\n",
      "Epoch 13, CIFAR-10 Batch 4:  Valid. accuracy at 0.6119999289512634 Valid. loss at 1.1166990995407104 Train loss at 1.0113811492919922\n",
      "Epoch 13, CIFAR-10 Batch 5:  Valid. accuracy at 0.6077999472618103 Valid. loss at 1.1134904623031616 Train loss at 0.8398164510726929\n",
      "Epoch 14, CIFAR-10 Batch 1:  Valid. accuracy at 0.6161999106407166 Valid. loss at 1.0953115224838257 Train loss at 0.9075121283531189\n",
      "Epoch 14, CIFAR-10 Batch 2:  Valid. accuracy at 0.6151999235153198 Valid. loss at 1.1130571365356445 Train loss at 0.8986022472381592\n",
      "Epoch 14, CIFAR-10 Batch 3:  Valid. accuracy at 0.6061999201774597 Valid. loss at 1.1087568998336792 Train loss at 0.7676104307174683\n",
      "Epoch 14, CIFAR-10 Batch 4:  Valid. accuracy at 0.5991998910903931 Valid. loss at 1.1425694227218628 Train loss at 1.0293574333190918\n",
      "Epoch 14, CIFAR-10 Batch 5:  Valid. accuracy at 0.6149998903274536 Valid. loss at 1.1098295450210571 Train loss at 0.9383862614631653\n",
      "Epoch 15, CIFAR-10 Batch 1:  Valid. accuracy at 0.6111999154090881 Valid. loss at 1.1168320178985596 Train loss at 0.9800724983215332\n",
      "Epoch 15, CIFAR-10 Batch 2:  Valid. accuracy at 0.6257998943328857 Valid. loss at 1.091341495513916 Train loss at 0.845909595489502\n",
      "Epoch 15, CIFAR-10 Batch 3:  Valid. accuracy at 0.6131998896598816 Valid. loss at 1.101689100265503 Train loss at 0.7230314612388611\n",
      "Epoch 15, CIFAR-10 Batch 4:  Valid. accuracy at 0.6141999363899231 Valid. loss at 1.114612102508545 Train loss at 1.0487879514694214\n",
      "Epoch 15, CIFAR-10 Batch 5:  Valid. accuracy at 0.6191998720169067 Valid. loss at 1.101559042930603 Train loss at 0.7688056230545044\n",
      "Epoch 16, CIFAR-10 Batch 1:  Valid. accuracy at 0.6117998957633972 Valid. loss at 1.1152523756027222 Train loss at 0.8446433544158936\n",
      "Epoch 16, CIFAR-10 Batch 2:  Valid. accuracy at 0.6339999437332153 Valid. loss at 1.0711588859558105 Train loss at 0.7724581956863403\n",
      "Epoch 16, CIFAR-10 Batch 3:  Valid. accuracy at 0.6161999702453613 Valid. loss at 1.1044399738311768 Train loss at 0.698967695236206\n",
      "Epoch 16, CIFAR-10 Batch 4:  Valid. accuracy at 0.627799928188324 Valid. loss at 1.0902159214019775 Train loss at 0.9715234637260437\n",
      "Epoch 16, CIFAR-10 Batch 5:  Valid. accuracy at 0.6059999465942383 Valid. loss at 1.1300678253173828 Train loss at 0.9106886386871338\n",
      "Epoch 17, CIFAR-10 Batch 1:  Valid. accuracy at 0.6195999383926392 Valid. loss at 1.0913279056549072 Train loss at 0.8724808096885681\n",
      "Epoch 17, CIFAR-10 Batch 2:  Valid. accuracy at 0.6423999071121216 Valid. loss at 1.0672721862792969 Train loss at 0.7950223684310913\n",
      "Epoch 17, CIFAR-10 Batch 3:  Valid. accuracy at 0.6279999017715454 Valid. loss at 1.0674034357070923 Train loss at 0.6350835561752319\n",
      "Epoch 17, CIFAR-10 Batch 4:  Valid. accuracy at 0.6369999051094055 Valid. loss at 1.067854881286621 Train loss at 0.958046555519104\n",
      "Epoch 17, CIFAR-10 Batch 5:  Valid. accuracy at 0.6283998489379883 Valid. loss at 1.0846011638641357 Train loss at 0.7997688055038452\n",
      "Epoch 18, CIFAR-10 Batch 1:  Valid. accuracy at 0.643799901008606 Valid. loss at 1.0508570671081543 Train loss at 0.8047927618026733\n",
      "Epoch 18, CIFAR-10 Batch 2:  Valid. accuracy at 0.640799880027771 Valid. loss at 1.0614081621170044 Train loss at 0.7654407024383545\n",
      "Epoch 18, CIFAR-10 Batch 3:  Valid. accuracy at 0.6339998841285706 Valid. loss at 1.0657439231872559 Train loss at 0.7038744688034058\n",
      "Epoch 18, CIFAR-10 Batch 4:  Valid. accuracy at 0.6357998847961426 Valid. loss at 1.08444344997406 Train loss at 0.9218100905418396\n",
      "Epoch 18, CIFAR-10 Batch 5:  Valid. accuracy at 0.6353998780250549 Valid. loss at 1.0515549182891846 Train loss at 0.8037287592887878\n",
      "Epoch 19, CIFAR-10 Batch 1:  Valid. accuracy at 0.6395999193191528 Valid. loss at 1.05350661277771 Train loss at 0.7960045337677002\n",
      "Epoch 19, CIFAR-10 Batch 2:  Valid. accuracy at 0.639799952507019 Valid. loss at 1.0588774681091309 Train loss at 0.8119221925735474\n",
      "Epoch 19, CIFAR-10 Batch 3:  Valid. accuracy at 0.6343998908996582 Valid. loss at 1.0666390657424927 Train loss at 0.6720953583717346\n",
      "Epoch 19, CIFAR-10 Batch 4:  Valid. accuracy at 0.6193999648094177 Valid. loss at 1.10679292678833 Train loss at 0.9389376640319824\n",
      "Epoch 19, CIFAR-10 Batch 5:  Valid. accuracy at 0.6441998481750488 Valid. loss at 1.0433439016342163 Train loss at 0.7650970816612244\n",
      "Epoch 20, CIFAR-10 Batch 1:  Valid. accuracy at 0.6359999179840088 Valid. loss at 1.064112663269043 Train loss at 0.7273364067077637\n",
      "Epoch 20, CIFAR-10 Batch 2:  Valid. accuracy at 0.6513998508453369 Valid. loss at 1.0338729619979858 Train loss at 0.7424987554550171\n",
      "Epoch 20, CIFAR-10 Batch 3:  Valid. accuracy at 0.6337999105453491 Valid. loss at 1.070310115814209 Train loss at 0.6345147490501404\n",
      "Epoch 20, CIFAR-10 Batch 4:  Valid. accuracy at 0.6319998502731323 Valid. loss at 1.0508201122283936 Train loss at 0.8867285251617432\n",
      "Epoch 20, CIFAR-10 Batch 5:  Valid. accuracy at 0.6465998888015747 Valid. loss at 1.041682243347168 Train loss at 0.7031687498092651\n",
      "Epoch 21, CIFAR-10 Batch 1:  Valid. accuracy at 0.6369999051094055 Valid. loss at 1.0473449230194092 Train loss at 0.7525989413261414\n",
      "Epoch 21, CIFAR-10 Batch 2:  Valid. accuracy at 0.6363999247550964 Valid. loss at 1.0546290874481201 Train loss at 0.8092879056930542\n",
      "Epoch 21, CIFAR-10 Batch 3:  Valid. accuracy at 0.6415998935699463 Valid. loss at 1.0490124225616455 Train loss at 0.6050260066986084\n",
      "Epoch 21, CIFAR-10 Batch 4:  Valid. accuracy at 0.639799952507019 Valid. loss at 1.0534917116165161 Train loss at 0.8645393252372742\n",
      "Epoch 21, CIFAR-10 Batch 5:  Valid. accuracy at 0.6453998684883118 Valid. loss at 1.0316598415374756 Train loss at 0.7394051551818848\n",
      "Epoch 22, CIFAR-10 Batch 1:  Valid. accuracy at 0.6521998643875122 Valid. loss at 1.0445504188537598 Train loss at 0.7269725799560547\n",
      "Epoch 22, CIFAR-10 Batch 2:  Valid. accuracy at 0.6351999044418335 Valid. loss at 1.076273798942566 Train loss at 0.7786363363265991\n",
      "Epoch 22, CIFAR-10 Batch 3:  Valid. accuracy at 0.6411998867988586 Valid. loss at 1.0508997440338135 Train loss at 0.6310153603553772\n",
      "Epoch 22, CIFAR-10 Batch 4:  Valid. accuracy at 0.6365998983383179 Valid. loss at 1.0683842897415161 Train loss at 0.8010188341140747\n",
      "Epoch 22, CIFAR-10 Batch 5:  Valid. accuracy at 0.6487998962402344 Valid. loss at 1.047025442123413 Train loss at 0.7327261567115784\n",
      "Epoch 23, CIFAR-10 Batch 1:  Valid. accuracy at 0.6469998955726624 Valid. loss at 1.0204792022705078 Train loss at 0.7020302414894104\n",
      "Epoch 23, CIFAR-10 Batch 2:  Valid. accuracy at 0.6521998643875122 Valid. loss at 1.0159077644348145 Train loss at 0.7388055920600891\n",
      "Epoch 23, CIFAR-10 Batch 3:  Valid. accuracy at 0.6357998847961426 Valid. loss at 1.0603300333023071 Train loss at 0.6367802619934082\n",
      "Epoch 23, CIFAR-10 Batch 4:  Valid. accuracy at 0.6493998765945435 Valid. loss at 1.0152755975723267 Train loss at 0.7488322257995605\n",
      "Epoch 23, CIFAR-10 Batch 5:  Valid. accuracy at 0.6455998420715332 Valid. loss at 1.0299729108810425 Train loss at 0.6951697468757629\n",
      "Epoch 24, CIFAR-10 Batch 1:  Valid. accuracy at 0.6483998894691467 Valid. loss at 1.0173271894454956 Train loss at 0.7327816486358643\n",
      "Epoch 24, CIFAR-10 Batch 2:  Valid. accuracy at 0.6483998894691467 Valid. loss at 1.0430009365081787 Train loss at 0.7585693001747131\n",
      "Epoch 24, CIFAR-10 Batch 3:  Valid. accuracy at 0.644399881362915 Valid. loss at 1.0383825302124023 Train loss at 0.5557491183280945\n",
      "Epoch 24, CIFAR-10 Batch 4:  Valid. accuracy at 0.6453998684883118 Valid. loss at 1.033508062362671 Train loss at 0.7558104991912842\n",
      "Epoch 24, CIFAR-10 Batch 5:  Valid. accuracy at 0.6573998928070068 Valid. loss at 1.0239309072494507 Train loss at 0.6564129590988159\n",
      "Epoch 25, CIFAR-10 Batch 1:  Valid. accuracy at 0.6589999198913574 Valid. loss at 1.013932228088379 Train loss at 0.7173477411270142\n",
      "Epoch 25, CIFAR-10 Batch 2:  Valid. accuracy at 0.6551998853683472 Valid. loss at 1.0205813646316528 Train loss at 0.722067654132843\n",
      "Epoch 25, CIFAR-10 Batch 3:  Valid. accuracy at 0.6529998779296875 Valid. loss at 1.0151293277740479 Train loss at 0.5329539179801941\n",
      "Epoch 25, CIFAR-10 Batch 4:  Valid. accuracy at 0.6445999145507812 Valid. loss at 1.0368608236312866 Train loss at 0.7127842903137207\n",
      "Epoch 25, CIFAR-10 Batch 5:  Valid. accuracy at 0.6529998779296875 Valid. loss at 1.0223784446716309 Train loss at 0.5725816488265991\n",
      "Epoch 26, CIFAR-10 Batch 1:  Valid. accuracy at 0.6543998718261719 Valid. loss at 1.04231858253479 Train loss at 0.713192880153656\n",
      "Epoch 26, CIFAR-10 Batch 2:  Valid. accuracy at 0.6419999003410339 Valid. loss at 1.0640802383422852 Train loss at 0.7292722463607788\n",
      "Epoch 26, CIFAR-10 Batch 3:  Valid. accuracy at 0.6237998604774475 Valid. loss at 1.092002511024475 Train loss at 0.5759897828102112\n",
      "Epoch 26, CIFAR-10 Batch 4:  Valid. accuracy at 0.6533998847007751 Valid. loss at 1.0306644439697266 Train loss at 0.7842117547988892\n",
      "Epoch 26, CIFAR-10 Batch 5:  Valid. accuracy at 0.6573998928070068 Valid. loss at 1.0145976543426514 Train loss at 0.581641435623169\n",
      "Epoch 27, CIFAR-10 Batch 1:  Valid. accuracy at 0.6497998833656311 Valid. loss at 1.0182278156280518 Train loss at 0.6738523840904236\n",
      "Epoch 27, CIFAR-10 Batch 2:  Valid. accuracy at 0.6419999003410339 Valid. loss at 1.0541075468063354 Train loss at 0.7687801122665405\n",
      "Epoch 27, CIFAR-10 Batch 3:  Valid. accuracy at 0.6575998663902283 Valid. loss at 1.008553385734558 Train loss at 0.47493985295295715\n",
      "Epoch 27, CIFAR-10 Batch 4:  Valid. accuracy at 0.6505998373031616 Valid. loss at 1.023149013519287 Train loss at 0.6906867027282715\n",
      "Epoch 27, CIFAR-10 Batch 5:  Valid. accuracy at 0.6589998006820679 Valid. loss at 1.0144411325454712 Train loss at 0.5802689790725708\n",
      "Epoch 28, CIFAR-10 Batch 1:  Valid. accuracy at 0.6609998941421509 Valid. loss at 1.0104104280471802 Train loss at 0.6451584696769714\n",
      "Epoch 28, CIFAR-10 Batch 2:  Valid. accuracy at 0.6623998880386353 Valid. loss at 1.0168203115463257 Train loss at 0.6397354006767273\n",
      "Epoch 28, CIFAR-10 Batch 3:  Valid. accuracy at 0.6395999193191528 Valid. loss at 1.0772055387496948 Train loss at 0.5221430063247681\n",
      "Epoch 28, CIFAR-10 Batch 4:  Valid. accuracy at 0.6579998731613159 Valid. loss at 1.0129661560058594 Train loss at 0.6922203898429871\n",
      "Epoch 28, CIFAR-10 Batch 5:  Valid. accuracy at 0.663399875164032 Valid. loss at 0.9996110796928406 Train loss at 0.5447068214416504\n",
      "Epoch 29, CIFAR-10 Batch 1:  Valid. accuracy at 0.6547998189926147 Valid. loss at 1.0156335830688477 Train loss at 0.7121446132659912\n",
      "Epoch 29, CIFAR-10 Batch 2:  Valid. accuracy at 0.6663998365402222 Valid. loss at 0.9950608015060425 Train loss at 0.6353529691696167\n",
      "Epoch 29, CIFAR-10 Batch 3:  Valid. accuracy at 0.6495999097824097 Valid. loss at 1.0416456460952759 Train loss at 0.4761914312839508\n",
      "Epoch 29, CIFAR-10 Batch 4:  Valid. accuracy at 0.6665998697280884 Valid. loss at 0.9867342114448547 Train loss at 0.6708423495292664\n",
      "Epoch 29, CIFAR-10 Batch 5:  Valid. accuracy at 0.6617999076843262 Valid. loss at 1.000119924545288 Train loss at 0.614623486995697\n",
      "Epoch 30, CIFAR-10 Batch 1:  Valid. accuracy at 0.6575998663902283 Valid. loss at 1.0250613689422607 Train loss at 0.6351027488708496\n",
      "Epoch 30, CIFAR-10 Batch 2:  Valid. accuracy at 0.6685998439788818 Valid. loss at 0.9941293001174927 Train loss at 0.5902911424636841\n",
      "Epoch 30, CIFAR-10 Batch 3:  Valid. accuracy at 0.6445999145507812 Valid. loss at 1.0409431457519531 Train loss at 0.48369312286376953\n",
      "Epoch 30, CIFAR-10 Batch 4:  Valid. accuracy at 0.6649999022483826 Valid. loss at 0.9949573278427124 Train loss at 0.6137688159942627\n",
      "Epoch 30, CIFAR-10 Batch 5:  Valid. accuracy at 0.6703999042510986 Valid. loss at 0.989664614200592 Train loss at 0.532505989074707\n",
      "Epoch 31, CIFAR-10 Batch 1:  Valid. accuracy at 0.6631999015808105 Valid. loss at 1.0016381740570068 Train loss at 0.638486385345459\n",
      "Epoch 31, CIFAR-10 Batch 2:  Valid. accuracy at 0.6643998622894287 Valid. loss at 1.0103256702423096 Train loss at 0.6011556386947632\n",
      "Epoch 31, CIFAR-10 Batch 3:  Valid. accuracy at 0.6459999084472656 Valid. loss at 1.042493462562561 Train loss at 0.47964751720428467\n",
      "Epoch 31, CIFAR-10 Batch 4:  Valid. accuracy at 0.6505998969078064 Valid. loss at 1.0253794193267822 Train loss at 0.6544555425643921\n",
      "Epoch 31, CIFAR-10 Batch 5:  Valid. accuracy at 0.6625998616218567 Valid. loss at 0.9936391711235046 Train loss at 0.556784987449646\n",
      "Epoch 32, CIFAR-10 Batch 1:  Valid. accuracy at 0.6531999707221985 Valid. loss at 1.025369644165039 Train loss at 0.6518594026565552\n",
      "Epoch 32, CIFAR-10 Batch 2:  Valid. accuracy at 0.660399854183197 Valid. loss at 1.0169974565505981 Train loss at 0.5472808480262756\n",
      "Epoch 32, CIFAR-10 Batch 3:  Valid. accuracy at 0.6585999131202698 Valid. loss at 1.0190218687057495 Train loss at 0.41783177852630615\n",
      "Epoch 32, CIFAR-10 Batch 4:  Valid. accuracy at 0.6587998867034912 Valid. loss at 1.0100153684616089 Train loss at 0.6514776349067688\n",
      "Epoch 32, CIFAR-10 Batch 5:  Valid. accuracy at 0.6607998609542847 Valid. loss at 1.0155352354049683 Train loss at 0.6019020080566406\n",
      "Epoch 33, CIFAR-10 Batch 1:  Valid. accuracy at 0.6743998527526855 Valid. loss at 0.9884433150291443 Train loss at 0.6202467679977417\n",
      "Epoch 33, CIFAR-10 Batch 2:  Valid. accuracy at 0.6553998589515686 Valid. loss at 1.0312374830245972 Train loss at 0.5393986105918884\n",
      "Epoch 33, CIFAR-10 Batch 3:  Valid. accuracy at 0.66239994764328 Valid. loss at 1.0058456659317017 Train loss at 0.40203365683555603\n",
      "Epoch 33, CIFAR-10 Batch 4:  Valid. accuracy at 0.6643999218940735 Valid. loss at 0.9943047761917114 Train loss at 0.6445095539093018\n",
      "Epoch 33, CIFAR-10 Batch 5:  Valid. accuracy at 0.668199896812439 Valid. loss at 0.9891852736473083 Train loss at 0.507538914680481\n",
      "Epoch 34, CIFAR-10 Batch 1:  Valid. accuracy at 0.6625998616218567 Valid. loss at 1.0200730562210083 Train loss at 0.5998972058296204\n",
      "Epoch 34, CIFAR-10 Batch 2:  Valid. accuracy at 0.6691998243331909 Valid. loss at 0.99592524766922 Train loss at 0.6267027258872986\n",
      "Epoch 34, CIFAR-10 Batch 3:  Valid. accuracy at 0.6529998779296875 Valid. loss at 1.0027482509613037 Train loss at 0.46906155347824097\n",
      "Epoch 34, CIFAR-10 Batch 4:  Valid. accuracy at 0.6565999388694763 Valid. loss at 1.0240596532821655 Train loss at 0.6084595322608948\n",
      "Epoch 34, CIFAR-10 Batch 5:  Valid. accuracy at 0.6619999408721924 Valid. loss at 1.0103511810302734 Train loss at 0.5069259405136108\n",
      "Epoch 35, CIFAR-10 Batch 1:  Valid. accuracy at 0.6745998859405518 Valid. loss at 0.9852613210678101 Train loss at 0.6044130325317383\n",
      "Epoch 35, CIFAR-10 Batch 2:  Valid. accuracy at 0.6533999443054199 Valid. loss at 1.0297904014587402 Train loss at 0.6202390193939209\n",
      "Epoch 35, CIFAR-10 Batch 3:  Valid. accuracy at 0.6591998934745789 Valid. loss at 1.0424214601516724 Train loss at 0.43434327840805054\n",
      "Epoch 35, CIFAR-10 Batch 4:  Valid. accuracy at 0.6677999496459961 Valid. loss at 0.9926193356513977 Train loss at 0.5692280530929565\n",
      "Epoch 35, CIFAR-10 Batch 5:  Valid. accuracy at 0.6643998622894287 Valid. loss at 1.0060232877731323 Train loss at 0.5099027156829834\n"
     ]
    }
   ],
   "source": [
    "\"\"\"\n",
    "DON'T MODIFY ANYTHING IN THIS CELL\n",
    "\"\"\"\n",
    "save_model_path = './image_classification'\n",
    "\n",
    "print('Training...')\n",
    "with tf.Session() as sess:\n",
    "    # Initializing the variables\n",
    "    sess.run(tf.global_variables_initializer())\n",
    "    \n",
    "    # Training cycle\n",
    "    for epoch in range(epochs):\n",
    "        # Loop over all batches\n",
    "        n_batches = 5\n",
    "        for batch_i in range(1, n_batches + 1):\n",
    "            for batch_features, batch_labels in helper.load_preprocess_training_batch(batch_i, batch_size):\n",
    "                train_neural_network(sess, optimizer, keep_probability, batch_features, batch_labels)\n",
    "            print('Epoch {:>2}, CIFAR-10 Batch {}:  '.format(epoch + 1, batch_i), end='')\n",
    "            print_stats(sess, batch_features, batch_labels, cost, accuracy)\n",
    "            \n",
    "    # Save Model\n",
    "    saver = tf.train.Saver()\n",
    "    save_path = saver.save(sess, save_model_path)"
   ]
  },
  {
   "cell_type": "markdown",
   "metadata": {},
   "source": [
    "# Checkpoint\n",
    "The model has been saved to disk.\n",
    "## Test Model\n",
    "Test your model against the test dataset.  This will be your final accuracy. You should have an accuracy greater than 50%. If you don't, keep tweaking the model architecture and parameters."
   ]
  },
  {
   "cell_type": "code",
   "execution_count": 30,
   "metadata": {
    "collapsed": false,
    "scrolled": true
   },
   "outputs": [
    {
     "name": "stdout",
     "output_type": "stream",
     "text": [
      "INFO:tensorflow:Restoring parameters from ./image_classification\n",
      "Testing Accuracy: 0.6668314873417721\n",
      "\n"
     ]
    },
    {
     "data": {
      "image/png": "[encoded data removed]",
      "text/plain": [
       "<matplotlib.figure.Figure at 0x7f463087d4e0>"
      ]
     },
     "metadata": {
      "image/png": {
       "height": 319,
       "width": 355
      }
     },
     "output_type": "display_data"
    }
   ],
   "source": [
    "\"\"\"\n",
    "DON'T MODIFY ANYTHING IN THIS CELL\n",
    "\"\"\"\n",
    "%matplotlib inline\n",
    "%config InlineBackend.figure_format = 'retina'\n",
    "\n",
    "import tensorflow as tf\n",
    "import pickle\n",
    "import helper\n",
    "import random\n",
    "\n",
    "# Set batch size if not already set\n",
    "try:\n",
    "    if batch_size:\n",
    "        pass\n",
    "except NameError:\n",
    "    batch_size = 64\n",
    "\n",
    "save_model_path = './image_classification'\n",
    "n_samples = 4\n",
    "top_n_predictions = 3\n",
    "\n",
    "def test_model():\n",
    "    \"\"\"\n",
    "    Test the saved model against the test dataset\n",
    "    \"\"\"\n",
    "\n",
    "    test_features, test_labels = pickle.load(open('preprocess_training.p', mode='rb'))\n",
    "    loaded_graph = tf.Graph()\n",
    "\n",
    "    with tf.Session(graph=loaded_graph) as sess:\n",
    "        # Load model\n",
    "        loader = tf.train.import_meta_graph(save_model_path + '.meta')\n",
    "        loader.restore(sess, save_model_path)\n",
    "\n",
    "        # Get Tensors from loaded model\n",
    "        loaded_x = loaded_graph.get_tensor_by_name('x:0')\n",
    "        loaded_y = loaded_graph.get_tensor_by_name('y:0')\n",
    "        loaded_keep_prob = loaded_graph.get_tensor_by_name('keep_prob:0')\n",
    "        loaded_logits = loaded_graph.get_tensor_by_name('logits:0')\n",
    "        loaded_acc = loaded_graph.get_tensor_by_name('accuracy:0')\n",
    "        \n",
    "        # Get accuracy in batches for memory limitations\n",
    "        test_batch_acc_total = 0\n",
    "        test_batch_count = 0\n",
    "        \n",
    "        for train_feature_batch, train_label_batch in helper.batch_features_labels(test_features, test_labels, batch_size):\n",
    "            test_batch_acc_total += sess.run(\n",
    "                loaded_acc,\n",
    "                feed_dict={loaded_x: train_feature_batch, loaded_y: train_label_batch, loaded_keep_prob: 1.0})\n",
    "            test_batch_count += 1\n",
    "\n",
    "        print('Testing Accuracy: {}\\n'.format(test_batch_acc_total/test_batch_count))\n",
    "\n",
    "        # Print Random Samples\n",
    "        random_test_features, random_test_labels = tuple(zip(*random.sample(list(zip(test_features, test_labels)), n_samples)))\n",
    "        random_test_predictions = sess.run(\n",
    "            tf.nn.top_k(tf.nn.softmax(loaded_logits), top_n_predictions),\n",
    "            feed_dict={loaded_x: random_test_features, loaded_y: random_test_labels, loaded_keep_prob: 1.0})\n",
    "        helper.display_image_predictions(random_test_features, random_test_labels, random_test_predictions)\n",
    "\n",
    "\n",
    "test_model()"
   ]
  },
  {
   "cell_type": "markdown",
   "metadata": {},
   "source": [
    "## Why 50-70% Accuracy?\n",
    "You might be wondering why you can't get an accuracy any higher. First things first, 50% isn't bad for a simple CNN.  Pure guessing would get you 10% accuracy. However, you might notice people are getting scores [well above 70%](http://rodrigob.github.io/are_we_there_yet/build/classification_datasets_results.html#43494641522d3130).  That's because we haven't taught you all there is to know about neural networks. We still need to cover a few more techniques.\n",
    "## Submitting This Project\n",
    "When submitting this project, make sure to run all the cells before saving the notebook.  Save the notebook file as \"dlnd_image_classification.ipynb\" and save it as a HTML file under \"File\" -> \"Download as\".  Include the \"helper.py\" and \"problem_unittests.py\" files in your submission."
   ]
  }
 ],
 "metadata": {
  "kernelspec": {
   "display_name": "Python 3",
   "language": "python",
   "name": "python3"
  },
  "language_info": {
   "codemirror_mode": {
    "name": "ipython",
    "version": 3
   },
   "file_extension": ".py",
   "mimetype": "text/x-python",
   "name": "python",
   "nbconvert_exporter": "python",
   "pygments_lexer": "ipython3",
   "version": "3.5.3"
  }
 },
 "nbformat": 4,
 "nbformat_minor": 0
}
